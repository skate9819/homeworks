{
 "cells": [
  {
   "cell_type": "markdown",
   "metadata": {},
   "source": [
    "# Домашнее задание 4"
   ]
  },
  {
   "cell_type": "markdown",
   "metadata": {},
   "source": [
    "1. Сформируйте три номинальных признака х1, х2 и х3 (один из них, но не больше, может быть взят из Вашей таблицы данных)\n",
    "2. Сформируйте две таблицы сопряженности, х1 и х2, х1 и х3. Постройте также матрицы условных вероятностей (х1 от х2 и х1 от х3), а также таблицы коэффициентов Кетле. Прокомментируйте связи между категориями х1 и категориями х2 и х3.\n",
    "3. Вычислите и визуализируйте среднее значение индекса Кетле на построенных таблицах сопряженности.\n",
    "4. Прокомментируйте смысл значений индекса Кетле на двух-трех примерах."
   ]
  },
  {
   "cell_type": "markdown",
   "metadata": {},
   "source": [
    "# Решение"
   ]
  },
  {
   "cell_type": "code",
   "execution_count": 25,
   "metadata": {},
   "outputs": [
    {
     "data": {
      "text/html": [
       "<div>\n",
       "<style scoped>\n",
       "    .dataframe tbody tr th:only-of-type {\n",
       "        vertical-align: middle;\n",
       "    }\n",
       "\n",
       "    .dataframe tbody tr th {\n",
       "        vertical-align: top;\n",
       "    }\n",
       "\n",
       "    .dataframe thead th {\n",
       "        text-align: right;\n",
       "    }\n",
       "</style>\n",
       "<table border=\"1\" class=\"dataframe\">\n",
       "  <thead>\n",
       "    <tr style=\"text-align: right;\">\n",
       "      <th></th>\n",
       "      <th>Urban_or_Rural_Area</th>\n",
       "      <th>Number_of_Casualties</th>\n",
       "      <th>Time</th>\n",
       "    </tr>\n",
       "  </thead>\n",
       "  <tbody>\n",
       "    <tr>\n",
       "      <td>0</td>\n",
       "      <td>1</td>\n",
       "      <td>2</td>\n",
       "      <td>01:30</td>\n",
       "    </tr>\n",
       "    <tr>\n",
       "      <td>1</td>\n",
       "      <td>1</td>\n",
       "      <td>1</td>\n",
       "      <td>00:50</td>\n",
       "    </tr>\n",
       "    <tr>\n",
       "      <td>2</td>\n",
       "      <td>1</td>\n",
       "      <td>1</td>\n",
       "      <td>00:45</td>\n",
       "    </tr>\n",
       "    <tr>\n",
       "      <td>3</td>\n",
       "      <td>1</td>\n",
       "      <td>1</td>\n",
       "      <td>03:00</td>\n",
       "    </tr>\n",
       "    <tr>\n",
       "      <td>4</td>\n",
       "      <td>1</td>\n",
       "      <td>2</td>\n",
       "      <td>02:20</td>\n",
       "    </tr>\n",
       "  </tbody>\n",
       "</table>\n",
       "</div>"
      ],
      "text/plain": [
       "   Urban_or_Rural_Area  Number_of_Casualties   Time\n",
       "0                    1                     2  01:30\n",
       "1                    1                     1  00:50\n",
       "2                    1                     1  00:45\n",
       "3                    1                     1  03:00\n",
       "4                    1                     2  02:20"
      ]
     },
     "execution_count": 25,
     "metadata": {},
     "output_type": "execute_result"
    }
   ],
   "source": [
    "import pandas\n",
    "import numpy as np\n",
    "import matplotlib.pyplot as plt\n",
    "import math\n",
    "\n",
    "data = pandas.read_csv('../data/RoadSafetyData_Accidents_2018.csv').filter(\n",
    "    items=['Urban_or_Rural_Area', 'Number_of_Casualties', 'Time'])\n",
    "data.head()"
   ]
  },
  {
   "cell_type": "markdown",
   "metadata": {},
   "source": [
    "Признак Urban_or_Rural_Area - и так номанальный. \n",
    "\n",
    "Теперь сформируем два новых признака:\n",
    "\n",
    "\n",
    "- Type_of_number_of_Casualties - этот признак выведем из признака Number_of_Casualties. типы:\n",
    "\n",
    "    - 1(мало жертв), если жертва 1\n",
    "    - 2(среднее количество жертв), если жертв 2 или 3\n",
    "    - 3(большое количество жертв), если жертв больше 3\n",
    "\n",
    "\n",
    "- Part_of_days - этот признак выведем из признака Time. Часть дня: \n",
    "    - 1(утро) с 5 до 12 часов\n",
    "    - 2(день) с 12 до 22 часов\n",
    "    - 3(ночь) с 22 до 5 часов"
   ]
  },
  {
   "cell_type": "code",
   "execution_count": 26,
   "metadata": {},
   "outputs": [],
   "source": [
    "import time\n",
    "\n",
    "def convert_time(x):\n",
    "    t = time.strptime(x,'%H:%M')\n",
    "    new_time = 1\n",
    "    if t.tm_hour >= 12 and t.tm_hour < 22:\n",
    "        new_time = 2\n",
    "    if t.tm_hour >= 22 or t.tm_hour < 5:\n",
    "        new_time = 3\n",
    "    return new_time\n",
    "\n",
    "def convert_Number_of_Casualties(x):\n",
    "    if x == 1:\n",
    "        return 1\n",
    "    if x <= 3:\n",
    "        return 2\n",
    "    return 3"
   ]
  },
  {
   "cell_type": "code",
   "execution_count": 27,
   "metadata": {},
   "outputs": [],
   "source": [
    "data['Part_of_days'] = data['Time'].map(lambda x: convert_time(x))\n",
    "data['Type_of_number_of_Casualties'] = data['Number_of_Casualties'].map(lambda x: convert_Number_of_Casualties(x))"
   ]
  },
  {
   "cell_type": "code",
   "execution_count": 28,
   "metadata": {},
   "outputs": [],
   "source": [
    "del data['Time']\n",
    "del data['Number_of_Casualties']"
   ]
  },
  {
   "cell_type": "code",
   "execution_count": 29,
   "metadata": {},
   "outputs": [
    {
     "data": {
      "text/html": [
       "<div>\n",
       "<style scoped>\n",
       "    .dataframe tbody tr th:only-of-type {\n",
       "        vertical-align: middle;\n",
       "    }\n",
       "\n",
       "    .dataframe tbody tr th {\n",
       "        vertical-align: top;\n",
       "    }\n",
       "\n",
       "    .dataframe thead th {\n",
       "        text-align: right;\n",
       "    }\n",
       "</style>\n",
       "<table border=\"1\" class=\"dataframe\">\n",
       "  <thead>\n",
       "    <tr style=\"text-align: right;\">\n",
       "      <th></th>\n",
       "      <th>Urban_or_Rural_Area</th>\n",
       "      <th>Part_of_days</th>\n",
       "      <th>Type_of_number_of_Casualties</th>\n",
       "    </tr>\n",
       "  </thead>\n",
       "  <tbody>\n",
       "    <tr>\n",
       "      <td>0</td>\n",
       "      <td>1</td>\n",
       "      <td>3</td>\n",
       "      <td>2</td>\n",
       "    </tr>\n",
       "    <tr>\n",
       "      <td>1</td>\n",
       "      <td>1</td>\n",
       "      <td>3</td>\n",
       "      <td>1</td>\n",
       "    </tr>\n",
       "    <tr>\n",
       "      <td>2</td>\n",
       "      <td>1</td>\n",
       "      <td>3</td>\n",
       "      <td>1</td>\n",
       "    </tr>\n",
       "    <tr>\n",
       "      <td>3</td>\n",
       "      <td>1</td>\n",
       "      <td>3</td>\n",
       "      <td>1</td>\n",
       "    </tr>\n",
       "    <tr>\n",
       "      <td>4</td>\n",
       "      <td>1</td>\n",
       "      <td>3</td>\n",
       "      <td>2</td>\n",
       "    </tr>\n",
       "    <tr>\n",
       "      <td>...</td>\n",
       "      <td>...</td>\n",
       "      <td>...</td>\n",
       "      <td>...</td>\n",
       "    </tr>\n",
       "    <tr>\n",
       "      <td>1995</td>\n",
       "      <td>1</td>\n",
       "      <td>2</td>\n",
       "      <td>1</td>\n",
       "    </tr>\n",
       "    <tr>\n",
       "      <td>1996</td>\n",
       "      <td>1</td>\n",
       "      <td>2</td>\n",
       "      <td>1</td>\n",
       "    </tr>\n",
       "    <tr>\n",
       "      <td>1997</td>\n",
       "      <td>1</td>\n",
       "      <td>3</td>\n",
       "      <td>1</td>\n",
       "    </tr>\n",
       "    <tr>\n",
       "      <td>1998</td>\n",
       "      <td>1</td>\n",
       "      <td>3</td>\n",
       "      <td>1</td>\n",
       "    </tr>\n",
       "    <tr>\n",
       "      <td>1999</td>\n",
       "      <td>1</td>\n",
       "      <td>3</td>\n",
       "      <td>1</td>\n",
       "    </tr>\n",
       "  </tbody>\n",
       "</table>\n",
       "<p>2000 rows × 3 columns</p>\n",
       "</div>"
      ],
      "text/plain": [
       "      Urban_or_Rural_Area  Part_of_days  Type_of_number_of_Casualties\n",
       "0                       1             3                             2\n",
       "1                       1             3                             1\n",
       "2                       1             3                             1\n",
       "3                       1             3                             1\n",
       "4                       1             3                             2\n",
       "...                   ...           ...                           ...\n",
       "1995                    1             2                             1\n",
       "1996                    1             2                             1\n",
       "1997                    1             3                             1\n",
       "1998                    1             3                             1\n",
       "1999                    1             3                             1\n",
       "\n",
       "[2000 rows x 3 columns]"
      ]
     },
     "execution_count": 29,
     "metadata": {},
     "output_type": "execute_result"
    }
   ],
   "source": [
    "data"
   ]
  },
  {
   "cell_type": "markdown",
   "metadata": {},
   "source": [
    "Новые признаки сформированы!"
   ]
  },
  {
   "cell_type": "markdown",
   "metadata": {},
   "source": [
    "#### Теперь построим таблицы сопряженности, матрицы условных вероятностей, таблицы коэффициентов Кетле для признаков Urban_or_Rural_Area и Part_of_days (х1 и х2), а так же Urban_or_Rural_Area и Type_of_number_of_Casualties ( х1 и х3)."
   ]
  },
  {
   "cell_type": "markdown",
   "metadata": {},
   "source": [
    "Таблицы будем считать по формуалам с лекций. Ниже приведен код для каждой таблицы и сами таблицы(они подписаны)."
   ]
  },
  {
   "cell_type": "code",
   "execution_count": 35,
   "metadata": {},
   "outputs": [
    {
     "name": "stdout",
     "output_type": "stream",
     "text": [
      "\n",
      " Таблица сопряженности Urban_or_Rural_Area и Part_of_days:\n",
      "┌────────────────────────────────────┬─────────┬───────────┬───────┬───────┐\n",
      "│ Urban_or_Rural_Area / Part_of_days │ Morning │ Afternoon │ Night │ Total │\n",
      "├────────────────────────────────────┼─────────┼───────────┼───────┼───────┤\n",
      "│ Urban                              │     542 │      1187 │   211 │  1940 │\n",
      "├────────────────────────────────────┼─────────┼───────────┼───────┼───────┤\n",
      "│ Rural                              │      20 │        34 │     6 │    60 │\n",
      "├────────────────────────────────────┼─────────┼───────────┼───────┼───────┤\n",
      "│ Total                              │     562 │      1221 │   217 │  2000 │\n",
      "└────────────────────────────────────┴─────────┴───────────┴───────┴───────┘\n"
     ]
    }
   ],
   "source": [
    "import tabletext\n",
    "\n",
    "contingency_table_x1x2 = [['Urban_or_Rural_Area / Part_of_days', 'Morning', 'Afternoon', 'Night', 'Total'], ['Urban'], ['Rural'], ['Total']]\n",
    "\n",
    "for i in range(1, 3):\n",
    "    for j in range(1, 4):\n",
    "        x = ((data['Urban_or_Rural_Area'] == i) & (data['Part_of_days'] == j)).sum()\n",
    "        contingency_table_x1x2[i].append(x)\n",
    "    contingency_table_x1x2[i].append((data['Urban_or_Rural_Area'] == i).sum())\n",
    "for j in range(1, 4):\n",
    "    x = (data['Part_of_days'] == j).sum()\n",
    "    contingency_table_x1x2[3].append(x)\n",
    "    \n",
    "contingency_table_x1x2[3].append(data.shape[0])\n",
    "print('\\n Таблица сопряженности Urban_or_Rural_Area и Part_of_days:')\n",
    "print(tabletext.to_text(contingency_table_x1x2))\n"
   ]
  },
  {
   "cell_type": "code",
   "execution_count": 36,
   "metadata": {},
   "outputs": [
    {
     "name": "stdout",
     "output_type": "stream",
     "text": [
      "\n",
      " Таблица сопряженности Urban_or_Rural_Area и Type_of_number_of_Casualties:\n",
      "┌────────────────────────────────────────────────────┬──────────────┬─────────────────┬──────────────────┬───────┐\n",
      "│ Urban_or_Rural_Area / Type_of_number_of_Casualties │ One casualty │ Few casualities │ Many casualities │ Total │\n",
      "├────────────────────────────────────────────────────┼──────────────┼─────────────────┼──────────────────┼───────┤\n",
      "│ Urban                                              │         1680 │             241 │               19 │  1940 │\n",
      "├────────────────────────────────────────────────────┼──────────────┼─────────────────┼──────────────────┼───────┤\n",
      "│ Rural                                              │           50 │               9 │                1 │    60 │\n",
      "├────────────────────────────────────────────────────┼──────────────┼─────────────────┼──────────────────┼───────┤\n",
      "│ Total                                              │         1730 │             250 │               20 │  2000 │\n",
      "└────────────────────────────────────────────────────┴──────────────┴─────────────────┴──────────────────┴───────┘\n"
     ]
    }
   ],
   "source": [
    "contingency_table_x1x3 = [['Urban_or_Rural_Area / Type_of_number_of_Casualties', 'One casualty', 'Few casualities', 'Many casualities', 'Total'], ['Urban'], ['Rural'], ['Total']]\n",
    "\n",
    "for i in range(1, 3):\n",
    "    for j in range(1, 4):\n",
    "        x = ((data['Urban_or_Rural_Area'] == i) & (data['Type_of_number_of_Casualties'] == j)).sum()\n",
    "        contingency_table_x1x3[i].append(x)\n",
    "    contingency_table_x1x3[i].append((data['Urban_or_Rural_Area'] == i).sum())\n",
    "for j in range(1, 4):\n",
    "    x = (data['Type_of_number_of_Casualties'] == j).sum()\n",
    "    contingency_table_x1x3[3].append(x)\n",
    "    \n",
    "contingency_table_x1x3[3].append(data.shape[0])\n",
    "print('\\n Таблица сопряженности Urban_or_Rural_Area и Type_of_number_of_Casualties:')\n",
    "print(tabletext.to_text(contingency_table_x1x3))"
   ]
  },
  {
   "cell_type": "code",
   "execution_count": 43,
   "metadata": {},
   "outputs": [
    {
     "name": "stdout",
     "output_type": "stream",
     "text": [
      "\n",
      " Матрица условных вероятностей Urban_or_Rural_Area от Part_of_days:\n",
      "┌────────────────────────────────────┬─────────┬───────────┬────────┬───────┐\n",
      "│ Urban_or_Rural_Area / Part_of_days │ Morning │ Afternoon │ Night  │ Total │\n",
      "├────────────────────────────────────┼─────────┼───────────┼────────┼───────┤\n",
      "│ Urban                              │  0.9644 │    0.9722 │ 0.9724 │  1940 │\n",
      "├────────────────────────────────────┼─────────┼───────────┼────────┼───────┤\n",
      "│ Rural                              │  0.0356 │    0.0278 │ 0.0276 │    60 │\n",
      "├────────────────────────────────────┼─────────┼───────────┼────────┼───────┤\n",
      "│ Total                              │     562 │      1221 │    217 │  2000 │\n",
      "└────────────────────────────────────┴─────────┴───────────┴────────┴───────┘\n"
     ]
    }
   ],
   "source": [
    "matrix_of_conditional_probabilities_x1x2 = [['Urban_or_Rural_Area / Part_of_days', 'Morning', 'Afternoon', \\\n",
    "                                             'Night', 'Total'], ['Urban'], ['Rural'], ['Total']]\n",
    "\n",
    "for i in range(1, 3):\n",
    "    for j in range(1, 4):\n",
    "        x = contingency_table_x1x2[i][j] / contingency_table_x1x2[3][j]\n",
    "        matrix_of_conditional_probabilities_x1x2[i].append(round(x, 4))\n",
    "    matrix_of_conditional_probabilities_x1x2[i].append((data['Urban_or_Rural_Area'] == i).sum())\n",
    "for j in range(1, 4):\n",
    "    x = (data['Part_of_days'] == j).sum()\n",
    "    matrix_of_conditional_probabilities_x1x2[3].append(x)\n",
    "    \n",
    "matrix_of_conditional_probabilities_x1x2[3].append(data.shape[0])\n",
    "print('\\n Матрица условных вероятностей Urban_or_Rural_Area от Part_of_days:')\n",
    "print(tabletext.to_text(matrix_of_conditional_probabilities_x1x2))"
   ]
  },
  {
   "cell_type": "code",
   "execution_count": 44,
   "metadata": {},
   "outputs": [
    {
     "name": "stdout",
     "output_type": "stream",
     "text": [
      "\n",
      " Матрица условных вероятностей Urban_or_Rural_Area от Type_of_number_of_Casualties:\n",
      "┌────────────────────────────────────────────────────┬──────────────┬─────────────────┬──────────────────┬───────┐\n",
      "│ Urban_or_Rural_Area / Type_of_number_of_Casualties │ One casualty │ Few casualities │ Many casualities │ Total │\n",
      "├────────────────────────────────────────────────────┼──────────────┼─────────────────┼──────────────────┼───────┤\n",
      "│ Urban                                              │       0.9711 │           0.964 │             0.95 │  1940 │\n",
      "├────────────────────────────────────────────────────┼──────────────┼─────────────────┼──────────────────┼───────┤\n",
      "│ Rural                                              │       0.0289 │           0.036 │             0.05 │    60 │\n",
      "├────────────────────────────────────────────────────┼──────────────┼─────────────────┼──────────────────┼───────┤\n",
      "│ Total                                              │         1730 │             250 │               20 │  2000 │\n",
      "└────────────────────────────────────────────────────┴──────────────┴─────────────────┴──────────────────┴───────┘\n"
     ]
    }
   ],
   "source": [
    "matrix_of_conditional_probabilities_x1x3 = [['Urban_or_Rural_Area / Type_of_number_of_Casualties', \\\n",
    "                                             'One casualty', 'Few casualities', 'Many casualities', 'Total'], ['Urban'], ['Rural'], ['Total']]\n",
    "\n",
    "for i in range(1, 3):\n",
    "    for j in range(1, 4):\n",
    "        x = contingency_table_x1x3[i][j] / contingency_table_x1x3[3][j]\n",
    "        matrix_of_conditional_probabilities_x1x3[i].append(round(x, 4))\n",
    "    matrix_of_conditional_probabilities_x1x3[i].append((data['Urban_or_Rural_Area'] == i).sum())\n",
    "for j in range(1, 4):\n",
    "    x = (data['Type_of_number_of_Casualties'] == j).sum()\n",
    "    matrix_of_conditional_probabilities_x1x3[3].append(x)\n",
    "    \n",
    "matrix_of_conditional_probabilities_x1x3[3].append(data.shape[0])\n",
    "print('\\n Матрица условных вероятностей Urban_or_Rural_Area от Type_of_number_of_Casualties:')\n",
    "print(tabletext.to_text(matrix_of_conditional_probabilities_x1x3))"
   ]
  },
  {
   "cell_type": "code",
   "execution_count": 46,
   "metadata": {},
   "outputs": [
    {
     "name": "stdout",
     "output_type": "stream",
     "text": [
      "\n",
      " Таблица коэффициентов Кетле признаков Urban_or_Rural_Area и Part_of_days:\n",
      "┌────────────────────────────────────┬─────────┬───────────┬────────┐\n",
      "│ Urban_or_Rural_Area / Part_of_days │ Morning │ Afternoon │ Night  │\n",
      "├────────────────────────────────────┼─────────┼───────────┼────────┤\n",
      "│ Urban                              │ -0.0058 │    0.0023 │ 0.0025 │\n",
      "├────────────────────────────────────┼─────────┼───────────┼────────┤\n",
      "│ Rural                              │  0.1867 │   -0.0733 │  -0.08 │\n",
      "└────────────────────────────────────┴─────────┴───────────┴────────┘\n"
     ]
    }
   ],
   "source": [
    "quetlet_x1x2 = [['Urban_or_Rural_Area / Part_of_days', 'Morning', 'Afternoon', \\\n",
    "                                             'Night'], ['Urban'], ['Rural']]\n",
    "\n",
    "for i in range(1, 3):\n",
    "    for j in range(1, 4):\n",
    "        p_i = contingency_table_x1x2[i][4] / contingency_table_x1x2[3][4]\n",
    "        x = (matrix_of_conditional_probabilities_x1x2[i][j] - p_i)/ p_i\n",
    "        quetlet_x1x2[i].append(round(x, 4))\n",
    "\n",
    "print('\\n Таблица коэффициентов Кетле признаков Urban_or_Rural_Area и Part_of_days:')\n",
    "print(tabletext.to_text(quetlet_x1x2))"
   ]
  },
  {
   "cell_type": "code",
   "execution_count": 47,
   "metadata": {},
   "outputs": [
    {
     "name": "stdout",
     "output_type": "stream",
     "text": [
      "\n",
      " Таблица коэффициентов Кетле признаков Urban_or_Rural_Area и Type_of_number_of_Casualties:\n",
      "┌────────────────────────────────────────────────────┬──────────────┬─────────────────┬──────────────────┐\n",
      "│ Urban_or_Rural_Area / Type_of_number_of_Casualties │ One casualty │ Few casualities │ Many casualities │\n",
      "├────────────────────────────────────────────────────┼──────────────┼─────────────────┼──────────────────┤\n",
      "│ Urban                                              │       0.0011 │         -0.0062 │          -0.0206 │\n",
      "├────────────────────────────────────────────────────┼──────────────┼─────────────────┼──────────────────┤\n",
      "│ Rural                                              │      -0.0367 │             0.2 │           0.6667 │\n",
      "└────────────────────────────────────────────────────┴──────────────┴─────────────────┴──────────────────┘\n"
     ]
    }
   ],
   "source": [
    "quetlet_x1x3 = [['Urban_or_Rural_Area / Type_of_number_of_Casualties', \\\n",
    "                 'One casualty', 'Few casualities', 'Many casualities'], ['Urban'], ['Rural']]\n",
    "\n",
    "\n",
    "for i in range(1, 3):\n",
    "    for j in range(1, 4):\n",
    "        p_i = contingency_table_x1x3[i][4] / contingency_table_x1x3[3][4]\n",
    "        x = (matrix_of_conditional_probabilities_x1x3[i][j] - p_i)/ p_i\n",
    "        quetlet_x1x3[i].append(round(x, 4))\n",
    "\n",
    "print('\\n Таблица коэффициентов Кетле признаков Urban_or_Rural_Area и Type_of_number_of_Casualties:')\n",
    "print(tabletext.to_text(quetlet_x1x3))"
   ]
  },
  {
   "cell_type": "markdown",
   "metadata": {},
   "source": [
    "Как видим выборка не очень хорошая, почти все аварии происходили в городской среде. Это немножко не лучшая выборка  =(\n",
    "\n",
    "По коэффициентам Кетле можно так прокоментировать сделать следующие связи между признаками:\n",
    "- авария утром понижает частоту того, что авария будет в городе на 0,6% и повышает частоту того, что авария будет в сельской местности на 19%\n",
    "- авария днём повышает частоту того, что авария будет в городе на 0,2% и понижает частоту того, что авария будет в сельской местности на 7%\n",
    "- авария ночью повышает частоту того, что авария будет в городе на 0,3% и понижает частоту того, что авария будет в сельской местности на 8%\n",
    "\n",
    "\n",
    "- авария с одним участником повышает частоту того, что авария будет в городе на 0,1% и понижает частоту того, что авария будет в сельской местности на 4%\n",
    "- авария с несколькими(2-3) участниками понижает частоту того, что авария будет в городе на 0,6% и повышает частоту того, что авария будет в сельской местности на 20%\n",
    "- авария с большим количеством(>3) участников понижает частоту того, что авария будет в городе на 2% и повышает частоту того, что авария будет в сельской местности на 67%\n",
    "\n",
    "В некоторых ситуациях вывод не супер инфрмативный, так как выборка сильно смещена в сторону городской местности."
   ]
  },
  {
   "cell_type": "markdown",
   "metadata": {},
   "source": [
    "#### Теперь посчитаем среднее значение значение индекса Кетле для признаков Urban_or_Rural_Area и Part_of_days, а так же для признаков  Urban_or_Rural_Area и Type_of_number_of_Casualties."
   ]
  },
  {
   "cell_type": "code",
   "execution_count": 52,
   "metadata": {},
   "outputs": [
    {
     "name": "stdout",
     "output_type": "stream",
     "text": [
      "среднее значение значение индекса Кетле для признаков \n",
      " Urban_or_Rural_Area и Part_of_days равно  0.00044\n"
     ]
    }
   ],
   "source": [
    "MeanQuetlet_x1x2 = 0\n",
    "for i in range(1, 3):\n",
    "    for j in range(1, 4):\n",
    "        MeanQuetlet_x1x2 += quetlet_x1x2[i][j] * contingency_table_x1x2[i][j] / contingency_table_x1x2[3][4]\n",
    "\n",
    "print('среднее значение значение индекса Кетле для признаков \\n', \\\n",
    "      'Urban_or_Rural_Area и Part_of_days равно ', round(MeanQuetlet_x1x2, 5))"
   ]
  },
  {
   "cell_type": "code",
   "execution_count": 53,
   "metadata": {},
   "outputs": [
    {
     "name": "stdout",
     "output_type": "stream",
     "text": [
      "среднее значение значение индекса Кетле для признаков \n",
      " Urban_or_Rural_Area и Type_of_number_of_Casualties равно  0.0003\n"
     ]
    }
   ],
   "source": [
    "MeanQuetlet_x1x3 = 0\n",
    "for i in range(1, 3):\n",
    "    for j in range(1, 4):\n",
    "        MeanQuetlet_x1x3 += quetlet_x1x3[i][j] * contingency_table_x1x3[i][j] / contingency_table_x1x3[3][4]\n",
    "\n",
    "print('среднее значение значение индекса Кетле для признаков \\n', \\\n",
    "      'Urban_or_Rural_Area и Type_of_number_of_Casualties равно ', round(MeanQuetlet_x1x3, 5))"
   ]
  },
  {
   "cell_type": "markdown",
   "metadata": {},
   "source": [
    "А это всё значит, что: \n",
    "- в среднем, знание времени дня аварии добавляет 0,04% к частоте местности, на которой будет авария\n",
    "- в среднем, знание количества участников аварии добавляет 0,03% к частоте местности, на которой будет авария"
   ]
  }
 ],
 "metadata": {
  "kernelspec": {
   "display_name": "Python 3",
   "language": "python",
   "name": "python3"
  },
  "language_info": {
   "codemirror_mode": {
    "name": "ipython",
    "version": 3
   },
   "file_extension": ".py",
   "mimetype": "text/x-python",
   "name": "python",
   "nbconvert_exporter": "python",
   "pygments_lexer": "ipython3",
   "version": "3.6.8"
  }
 },
 "nbformat": 4,
 "nbformat_minor": 2
}
