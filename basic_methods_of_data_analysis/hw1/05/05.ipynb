{
 "cells": [
  {
   "cell_type": "markdown",
   "metadata": {},
   "source": [
    "# Домашнее задание 5"
   ]
  },
  {
   "cell_type": "markdown",
   "metadata": {},
   "source": [
    "• Выберите в Ваших данных 3-6 признаков, более или\n",
    "менее относящихся к одному и тому же аспекту данных;\n",
    "откомментируйте.\n",
    "\n",
    "• Визуализируйте Ваши данные дважды, один раз с\n",
    "использованием стандартизации на размах, второй –\n",
    "путем z-scoring. Выберите какую-либо группу объектов и\n",
    "выделите ее на визуализациях цветом или формой\n",
    "«точек».\n",
    "\n",
    "• Примените традиционный метод МГК для визуализации\n",
    "(для какого-либо способа нормализации) и убедитесь,\n",
    "что получено то же самое, что и выше. Если нет –\n",
    "объясните, в чем дело.\n",
    "\n",
    "• Постарайтесь проинтерпретировать полученные\n",
    "компоненты"
   ]
  },
  {
   "cell_type": "markdown",
   "metadata": {},
   "source": [
    "## Решение:"
   ]
  },
  {
   "cell_type": "markdown",
   "metadata": {},
   "source": [
    "Возьмём признаки, по которым можно примерно определить местность, на которой случилась авария.\n",
    "- Road_Type\n",
    "- Speed_limit\n",
    "- Light_Conditions\n",
    "- Road_Surface_Conditions\n",
    "- Longitude\n",
    "- Latitude\n",
    "\n",
    "Так же, так как объектов, в которых местность не городская всего 60, то оставим с городской местнотью тоже 60 объектов. Итого - 120."
   ]
  },
  {
   "cell_type": "code",
   "execution_count": 110,
   "metadata": {},
   "outputs": [
    {
     "data": {
      "text/html": [
       "<div>\n",
       "<style scoped>\n",
       "    .dataframe tbody tr th:only-of-type {\n",
       "        vertical-align: middle;\n",
       "    }\n",
       "\n",
       "    .dataframe tbody tr th {\n",
       "        vertical-align: top;\n",
       "    }\n",
       "\n",
       "    .dataframe thead th {\n",
       "        text-align: right;\n",
       "    }\n",
       "</style>\n",
       "<table border=\"1\" class=\"dataframe\">\n",
       "  <thead>\n",
       "    <tr style=\"text-align: right;\">\n",
       "      <th></th>\n",
       "      <th>Road_Type</th>\n",
       "      <th>Speed_limit</th>\n",
       "      <th>Light_Conditions</th>\n",
       "      <th>Road_Surface_Conditions</th>\n",
       "      <th>Longitude</th>\n",
       "      <th>Latitude</th>\n",
       "      <th>Urban_or_Rural_Area</th>\n",
       "    </tr>\n",
       "  </thead>\n",
       "  <tbody>\n",
       "    <tr>\n",
       "      <th>0</th>\n",
       "      <td>3</td>\n",
       "      <td>30</td>\n",
       "      <td>4</td>\n",
       "      <td>1</td>\n",
       "      <td>-0.139737</td>\n",
       "      <td>51.524587</td>\n",
       "      <td>1</td>\n",
       "    </tr>\n",
       "    <tr>\n",
       "      <th>1</th>\n",
       "      <td>6</td>\n",
       "      <td>30</td>\n",
       "      <td>4</td>\n",
       "      <td>1</td>\n",
       "      <td>0.046471</td>\n",
       "      <td>51.539651</td>\n",
       "      <td>1</td>\n",
       "    </tr>\n",
       "    <tr>\n",
       "      <th>2</th>\n",
       "      <td>6</td>\n",
       "      <td>20</td>\n",
       "      <td>4</td>\n",
       "      <td>1</td>\n",
       "      <td>-0.102474</td>\n",
       "      <td>51.529746</td>\n",
       "      <td>1</td>\n",
       "    </tr>\n",
       "    <tr>\n",
       "      <th>3</th>\n",
       "      <td>3</td>\n",
       "      <td>30</td>\n",
       "      <td>4</td>\n",
       "      <td>2</td>\n",
       "      <td>0.037828</td>\n",
       "      <td>51.530179</td>\n",
       "      <td>1</td>\n",
       "    </tr>\n",
       "    <tr>\n",
       "      <th>4</th>\n",
       "      <td>6</td>\n",
       "      <td>30</td>\n",
       "      <td>4</td>\n",
       "      <td>2</td>\n",
       "      <td>0.065781</td>\n",
       "      <td>51.469258</td>\n",
       "      <td>1</td>\n",
       "    </tr>\n",
       "  </tbody>\n",
       "</table>\n",
       "</div>"
      ],
      "text/plain": [
       "   Road_Type  Speed_limit  Light_Conditions  Road_Surface_Conditions  \\\n",
       "0          3           30                 4                        1   \n",
       "1          6           30                 4                        1   \n",
       "2          6           20                 4                        1   \n",
       "3          3           30                 4                        2   \n",
       "4          6           30                 4                        2   \n",
       "\n",
       "   Longitude   Latitude  Urban_or_Rural_Area  \n",
       "0  -0.139737  51.524587                    1  \n",
       "1   0.046471  51.539651                    1  \n",
       "2  -0.102474  51.529746                    1  \n",
       "3   0.037828  51.530179                    1  \n",
       "4   0.065781  51.469258                    1  "
      ]
     },
     "execution_count": 110,
     "metadata": {},
     "output_type": "execute_result"
    }
   ],
   "source": [
    "import pandas\n",
    "import numpy as np\n",
    "import matplotlib.pyplot as plt\n",
    "import math\n",
    "import seaborn as sns\n",
    "\n",
    "\n",
    "full_data = pandas.read_csv('../data/RoadSafetyData_Accidents_2018.csv').filter(items=[ \\\n",
    "                             \"\"                                                     'Road_Type', \\\n",
    "                                                                                  'Speed_limit', \\\n",
    "                                                                                  'Light_Conditions', \\\n",
    "                                                                                  'Road_Surface_Conditions', \\\n",
    "                                                                                  'Longitude', 'Latitude', \\\n",
    "                                                                                    'Urban_or_Rural_Area'])\n",
    "full_data.head()"
   ]
  },
  {
   "cell_type": "code",
   "execution_count": 111,
   "metadata": {},
   "outputs": [
    {
     "data": {
      "text/plain": [
       "(2000, 7)"
      ]
     },
     "execution_count": 111,
     "metadata": {},
     "output_type": "execute_result"
    }
   ],
   "source": [
    "full_data.shape"
   ]
  },
  {
   "cell_type": "code",
   "execution_count": 112,
   "metadata": {},
   "outputs": [],
   "source": [
    "rural_data = full_data[full_data['Urban_or_Rural_Area'] == 2]"
   ]
  },
  {
   "cell_type": "markdown",
   "metadata": {},
   "source": [
    "Так как объектов очень много - оставим только 120. "
   ]
  },
  {
   "cell_type": "code",
   "execution_count": 113,
   "metadata": {},
   "outputs": [
    {
     "data": {
      "text/plain": [
       "(60, 7)"
      ]
     },
     "execution_count": 113,
     "metadata": {},
     "output_type": "execute_result"
    }
   ],
   "source": [
    "full_data.drop(full_data.tail(full_data.shape[0] - 60).index, inplace=True)\n",
    "full_data.drop(full_data[full_data['Urban_or_Rural_Area'] == 2].index, axis=0)\n",
    "full_data.shape"
   ]
  },
  {
   "cell_type": "code",
   "execution_count": 114,
   "metadata": {},
   "outputs": [],
   "source": [
    "data = full_data\n",
    "data = data.append(rural_data)\n",
    "data_with_area = data.copy(deep=True)"
   ]
  },
  {
   "cell_type": "code",
   "execution_count": 115,
   "metadata": {},
   "outputs": [],
   "source": [
    "data.drop(['Urban_or_Rural_Area'], inplace=True, axis=1)"
   ]
  },
  {
   "cell_type": "code",
   "execution_count": 116,
   "metadata": {},
   "outputs": [
    {
     "data": {
      "text/html": [
       "<div>\n",
       "<style scoped>\n",
       "    .dataframe tbody tr th:only-of-type {\n",
       "        vertical-align: middle;\n",
       "    }\n",
       "\n",
       "    .dataframe tbody tr th {\n",
       "        vertical-align: top;\n",
       "    }\n",
       "\n",
       "    .dataframe thead th {\n",
       "        text-align: right;\n",
       "    }\n",
       "</style>\n",
       "<table border=\"1\" class=\"dataframe\">\n",
       "  <thead>\n",
       "    <tr style=\"text-align: right;\">\n",
       "      <th></th>\n",
       "      <th>Road_Type</th>\n",
       "      <th>Speed_limit</th>\n",
       "      <th>Light_Conditions</th>\n",
       "      <th>Road_Surface_Conditions</th>\n",
       "      <th>Longitude</th>\n",
       "      <th>Latitude</th>\n",
       "    </tr>\n",
       "  </thead>\n",
       "  <tbody>\n",
       "    <tr>\n",
       "      <th>0</th>\n",
       "      <td>3</td>\n",
       "      <td>30</td>\n",
       "      <td>4</td>\n",
       "      <td>1</td>\n",
       "      <td>-0.139737</td>\n",
       "      <td>51.524587</td>\n",
       "    </tr>\n",
       "    <tr>\n",
       "      <th>1</th>\n",
       "      <td>6</td>\n",
       "      <td>30</td>\n",
       "      <td>4</td>\n",
       "      <td>1</td>\n",
       "      <td>0.046471</td>\n",
       "      <td>51.539651</td>\n",
       "    </tr>\n",
       "    <tr>\n",
       "      <th>2</th>\n",
       "      <td>6</td>\n",
       "      <td>20</td>\n",
       "      <td>4</td>\n",
       "      <td>1</td>\n",
       "      <td>-0.102474</td>\n",
       "      <td>51.529746</td>\n",
       "    </tr>\n",
       "    <tr>\n",
       "      <th>3</th>\n",
       "      <td>3</td>\n",
       "      <td>30</td>\n",
       "      <td>4</td>\n",
       "      <td>2</td>\n",
       "      <td>0.037828</td>\n",
       "      <td>51.530179</td>\n",
       "    </tr>\n",
       "    <tr>\n",
       "      <th>4</th>\n",
       "      <td>6</td>\n",
       "      <td>30</td>\n",
       "      <td>4</td>\n",
       "      <td>2</td>\n",
       "      <td>0.065781</td>\n",
       "      <td>51.469258</td>\n",
       "    </tr>\n",
       "    <tr>\n",
       "      <th>...</th>\n",
       "      <td>...</td>\n",
       "      <td>...</td>\n",
       "      <td>...</td>\n",
       "      <td>...</td>\n",
       "      <td>...</td>\n",
       "      <td>...</td>\n",
       "    </tr>\n",
       "    <tr>\n",
       "      <th>1879</th>\n",
       "      <td>1</td>\n",
       "      <td>30</td>\n",
       "      <td>1</td>\n",
       "      <td>1</td>\n",
       "      <td>0.189432</td>\n",
       "      <td>51.519623</td>\n",
       "    </tr>\n",
       "    <tr>\n",
       "      <th>1939</th>\n",
       "      <td>1</td>\n",
       "      <td>30</td>\n",
       "      <td>1</td>\n",
       "      <td>1</td>\n",
       "      <td>0.044235</td>\n",
       "      <td>51.576650</td>\n",
       "    </tr>\n",
       "    <tr>\n",
       "      <th>1971</th>\n",
       "      <td>6</td>\n",
       "      <td>30</td>\n",
       "      <td>4</td>\n",
       "      <td>1</td>\n",
       "      <td>-0.491142</td>\n",
       "      <td>51.469295</td>\n",
       "    </tr>\n",
       "    <tr>\n",
       "      <th>1973</th>\n",
       "      <td>9</td>\n",
       "      <td>30</td>\n",
       "      <td>1</td>\n",
       "      <td>1</td>\n",
       "      <td>-0.121739</td>\n",
       "      <td>51.492556</td>\n",
       "    </tr>\n",
       "    <tr>\n",
       "      <th>1985</th>\n",
       "      <td>6</td>\n",
       "      <td>60</td>\n",
       "      <td>1</td>\n",
       "      <td>1</td>\n",
       "      <td>-0.495866</td>\n",
       "      <td>51.478887</td>\n",
       "    </tr>\n",
       "  </tbody>\n",
       "</table>\n",
       "<p>120 rows × 6 columns</p>\n",
       "</div>"
      ],
      "text/plain": [
       "      Road_Type  Speed_limit  Light_Conditions  Road_Surface_Conditions  \\\n",
       "0             3           30                 4                        1   \n",
       "1             6           30                 4                        1   \n",
       "2             6           20                 4                        1   \n",
       "3             3           30                 4                        2   \n",
       "4             6           30                 4                        2   \n",
       "...         ...          ...               ...                      ...   \n",
       "1879          1           30                 1                        1   \n",
       "1939          1           30                 1                        1   \n",
       "1971          6           30                 4                        1   \n",
       "1973          9           30                 1                        1   \n",
       "1985          6           60                 1                        1   \n",
       "\n",
       "      Longitude   Latitude  \n",
       "0     -0.139737  51.524587  \n",
       "1      0.046471  51.539651  \n",
       "2     -0.102474  51.529746  \n",
       "3      0.037828  51.530179  \n",
       "4      0.065781  51.469258  \n",
       "...         ...        ...  \n",
       "1879   0.189432  51.519623  \n",
       "1939   0.044235  51.576650  \n",
       "1971  -0.491142  51.469295  \n",
       "1973  -0.121739  51.492556  \n",
       "1985  -0.495866  51.478887  \n",
       "\n",
       "[120 rows x 6 columns]"
      ]
     },
     "execution_count": 116,
     "metadata": {},
     "output_type": "execute_result"
    }
   ],
   "source": [
    "data"
   ]
  },
  {
   "cell_type": "markdown",
   "metadata": {},
   "source": [
    "Готово. Теперь сначала нормализуем данные двумя способами(z-scoring и нормализацией размахом), а потом с помощью SVD визуализируем группу некоторых объектов."
   ]
  },
  {
   "cell_type": "markdown",
   "metadata": {},
   "source": [
    "Все формулы взяты с лекции."
   ]
  },
  {
   "cell_type": "markdown",
   "metadata": {},
   "source": [
    "Для начала z-scoring:"
   ]
  },
  {
   "cell_type": "code",
   "execution_count": 117,
   "metadata": {},
   "outputs": [
    {
     "data": {
      "text/html": [
       "<div>\n",
       "<style scoped>\n",
       "    .dataframe tbody tr th:only-of-type {\n",
       "        vertical-align: middle;\n",
       "    }\n",
       "\n",
       "    .dataframe tbody tr th {\n",
       "        vertical-align: top;\n",
       "    }\n",
       "\n",
       "    .dataframe thead th {\n",
       "        text-align: right;\n",
       "    }\n",
       "</style>\n",
       "<table border=\"1\" class=\"dataframe\">\n",
       "  <thead>\n",
       "    <tr style=\"text-align: right;\">\n",
       "      <th></th>\n",
       "      <th>Road_Type</th>\n",
       "      <th>Speed_limit</th>\n",
       "      <th>Light_Conditions</th>\n",
       "      <th>Road_Surface_Conditions</th>\n",
       "      <th>Longitude</th>\n",
       "      <th>Latitude</th>\n",
       "    </tr>\n",
       "  </thead>\n",
       "  <tbody>\n",
       "    <tr>\n",
       "      <th>0</th>\n",
       "      <td>-0.815015</td>\n",
       "      <td>-0.351405</td>\n",
       "      <td>0.631544</td>\n",
       "      <td>-0.713315</td>\n",
       "      <td>-0.230273</td>\n",
       "      <td>-0.041542</td>\n",
       "    </tr>\n",
       "    <tr>\n",
       "      <th>1</th>\n",
       "      <td>0.770960</td>\n",
       "      <td>-0.351405</td>\n",
       "      <td>0.631544</td>\n",
       "      <td>-0.713315</td>\n",
       "      <td>0.763054</td>\n",
       "      <td>0.174973</td>\n",
       "    </tr>\n",
       "    <tr>\n",
       "      <th>2</th>\n",
       "      <td>0.770960</td>\n",
       "      <td>-1.104417</td>\n",
       "      <td>0.631544</td>\n",
       "      <td>-0.713315</td>\n",
       "      <td>-0.031493</td>\n",
       "      <td>0.032609</td>\n",
       "    </tr>\n",
       "    <tr>\n",
       "      <th>3</th>\n",
       "      <td>-0.815015</td>\n",
       "      <td>-0.351405</td>\n",
       "      <td>0.631544</td>\n",
       "      <td>1.147507</td>\n",
       "      <td>0.716948</td>\n",
       "      <td>0.038832</td>\n",
       "    </tr>\n",
       "    <tr>\n",
       "      <th>4</th>\n",
       "      <td>0.770960</td>\n",
       "      <td>-0.351405</td>\n",
       "      <td>0.631544</td>\n",
       "      <td>1.147507</td>\n",
       "      <td>0.866063</td>\n",
       "      <td>-0.836784</td>\n",
       "    </tr>\n",
       "    <tr>\n",
       "      <th>...</th>\n",
       "      <td>...</td>\n",
       "      <td>...</td>\n",
       "      <td>...</td>\n",
       "      <td>...</td>\n",
       "      <td>...</td>\n",
       "      <td>...</td>\n",
       "    </tr>\n",
       "    <tr>\n",
       "      <th>1879</th>\n",
       "      <td>-1.872331</td>\n",
       "      <td>-0.351405</td>\n",
       "      <td>-1.144674</td>\n",
       "      <td>-0.713315</td>\n",
       "      <td>1.525679</td>\n",
       "      <td>-0.112889</td>\n",
       "    </tr>\n",
       "    <tr>\n",
       "      <th>1939</th>\n",
       "      <td>-1.872331</td>\n",
       "      <td>-0.351405</td>\n",
       "      <td>-1.144674</td>\n",
       "      <td>-0.713315</td>\n",
       "      <td>0.751126</td>\n",
       "      <td>0.706759</td>\n",
       "    </tr>\n",
       "    <tr>\n",
       "      <th>1971</th>\n",
       "      <td>0.770960</td>\n",
       "      <td>-0.351405</td>\n",
       "      <td>0.631544</td>\n",
       "      <td>-0.713315</td>\n",
       "      <td>-2.104843</td>\n",
       "      <td>-0.836252</td>\n",
       "    </tr>\n",
       "    <tr>\n",
       "      <th>1973</th>\n",
       "      <td>2.356934</td>\n",
       "      <td>-0.351405</td>\n",
       "      <td>-1.144674</td>\n",
       "      <td>-0.713315</td>\n",
       "      <td>-0.134263</td>\n",
       "      <td>-0.501923</td>\n",
       "    </tr>\n",
       "    <tr>\n",
       "      <th>1985</th>\n",
       "      <td>0.770960</td>\n",
       "      <td>1.907630</td>\n",
       "      <td>-1.144674</td>\n",
       "      <td>-0.713315</td>\n",
       "      <td>-2.130043</td>\n",
       "      <td>-0.698387</td>\n",
       "    </tr>\n",
       "  </tbody>\n",
       "</table>\n",
       "<p>120 rows × 6 columns</p>\n",
       "</div>"
      ],
      "text/plain": [
       "      Road_Type  Speed_limit  Light_Conditions  Road_Surface_Conditions  \\\n",
       "0     -0.815015    -0.351405          0.631544                -0.713315   \n",
       "1      0.770960    -0.351405          0.631544                -0.713315   \n",
       "2      0.770960    -1.104417          0.631544                -0.713315   \n",
       "3     -0.815015    -0.351405          0.631544                 1.147507   \n",
       "4      0.770960    -0.351405          0.631544                 1.147507   \n",
       "...         ...          ...               ...                      ...   \n",
       "1879  -1.872331    -0.351405         -1.144674                -0.713315   \n",
       "1939  -1.872331    -0.351405         -1.144674                -0.713315   \n",
       "1971   0.770960    -0.351405          0.631544                -0.713315   \n",
       "1973   2.356934    -0.351405         -1.144674                -0.713315   \n",
       "1985   0.770960     1.907630         -1.144674                -0.713315   \n",
       "\n",
       "      Longitude  Latitude  \n",
       "0     -0.230273 -0.041542  \n",
       "1      0.763054  0.174973  \n",
       "2     -0.031493  0.032609  \n",
       "3      0.716948  0.038832  \n",
       "4      0.866063 -0.836784  \n",
       "...         ...       ...  \n",
       "1879   1.525679 -0.112889  \n",
       "1939   0.751126  0.706759  \n",
       "1971  -2.104843 -0.836252  \n",
       "1973  -0.134263 -0.501923  \n",
       "1985  -2.130043 -0.698387  \n",
       "\n",
       "[120 rows x 6 columns]"
      ]
     },
     "execution_count": 117,
     "metadata": {},
     "output_type": "execute_result"
    }
   ],
   "source": [
    "data_zscoring =(data-data.mean())/data.std()\n",
    "data_zscoring"
   ]
  },
  {
   "cell_type": "markdown",
   "metadata": {},
   "source": [
    "Теперь нормализация размахом:"
   ]
  },
  {
   "cell_type": "code",
   "execution_count": 118,
   "metadata": {},
   "outputs": [
    {
     "data": {
      "text/html": [
       "<div>\n",
       "<style scoped>\n",
       "    .dataframe tbody tr th:only-of-type {\n",
       "        vertical-align: middle;\n",
       "    }\n",
       "\n",
       "    .dataframe tbody tr th {\n",
       "        vertical-align: top;\n",
       "    }\n",
       "\n",
       "    .dataframe thead th {\n",
       "        text-align: right;\n",
       "    }\n",
       "</style>\n",
       "<table border=\"1\" class=\"dataframe\">\n",
       "  <thead>\n",
       "    <tr style=\"text-align: right;\">\n",
       "      <th></th>\n",
       "      <th>Road_Type</th>\n",
       "      <th>Speed_limit</th>\n",
       "      <th>Light_Conditions</th>\n",
       "      <th>Road_Surface_Conditions</th>\n",
       "      <th>Longitude</th>\n",
       "      <th>Latitude</th>\n",
       "    </tr>\n",
       "  </thead>\n",
       "  <tbody>\n",
       "    <tr>\n",
       "      <th>0</th>\n",
       "      <td>-0.192708</td>\n",
       "      <td>-0.093333</td>\n",
       "      <td>0.177778</td>\n",
       "      <td>-0.127778</td>\n",
       "      <td>-0.055001</td>\n",
       "      <td>-0.008382</td>\n",
       "    </tr>\n",
       "    <tr>\n",
       "      <th>1</th>\n",
       "      <td>0.182292</td>\n",
       "      <td>-0.093333</td>\n",
       "      <td>0.177778</td>\n",
       "      <td>-0.127778</td>\n",
       "      <td>0.182258</td>\n",
       "      <td>0.035307</td>\n",
       "    </tr>\n",
       "    <tr>\n",
       "      <th>2</th>\n",
       "      <td>0.182292</td>\n",
       "      <td>-0.293333</td>\n",
       "      <td>0.177778</td>\n",
       "      <td>-0.127778</td>\n",
       "      <td>-0.007522</td>\n",
       "      <td>0.006580</td>\n",
       "    </tr>\n",
       "    <tr>\n",
       "      <th>3</th>\n",
       "      <td>-0.192708</td>\n",
       "      <td>-0.093333</td>\n",
       "      <td>0.177778</td>\n",
       "      <td>0.205556</td>\n",
       "      <td>0.171245</td>\n",
       "      <td>0.007836</td>\n",
       "    </tr>\n",
       "    <tr>\n",
       "      <th>4</th>\n",
       "      <td>0.182292</td>\n",
       "      <td>-0.093333</td>\n",
       "      <td>0.177778</td>\n",
       "      <td>0.205556</td>\n",
       "      <td>0.206862</td>\n",
       "      <td>-0.168850</td>\n",
       "    </tr>\n",
       "    <tr>\n",
       "      <th>...</th>\n",
       "      <td>...</td>\n",
       "      <td>...</td>\n",
       "      <td>...</td>\n",
       "      <td>...</td>\n",
       "      <td>...</td>\n",
       "      <td>...</td>\n",
       "    </tr>\n",
       "    <tr>\n",
       "      <th>1879</th>\n",
       "      <td>-0.442708</td>\n",
       "      <td>-0.093333</td>\n",
       "      <td>-0.322222</td>\n",
       "      <td>-0.127778</td>\n",
       "      <td>0.364413</td>\n",
       "      <td>-0.022779</td>\n",
       "    </tr>\n",
       "    <tr>\n",
       "      <th>1939</th>\n",
       "      <td>-0.442708</td>\n",
       "      <td>-0.093333</td>\n",
       "      <td>-0.322222</td>\n",
       "      <td>-0.127778</td>\n",
       "      <td>0.179409</td>\n",
       "      <td>0.142613</td>\n",
       "    </tr>\n",
       "    <tr>\n",
       "      <th>1971</th>\n",
       "      <td>0.182292</td>\n",
       "      <td>-0.093333</td>\n",
       "      <td>0.177778</td>\n",
       "      <td>-0.127778</td>\n",
       "      <td>-0.502748</td>\n",
       "      <td>-0.168743</td>\n",
       "    </tr>\n",
       "    <tr>\n",
       "      <th>1973</th>\n",
       "      <td>0.557292</td>\n",
       "      <td>-0.093333</td>\n",
       "      <td>-0.322222</td>\n",
       "      <td>-0.127778</td>\n",
       "      <td>-0.032069</td>\n",
       "      <td>-0.101280</td>\n",
       "    </tr>\n",
       "    <tr>\n",
       "      <th>1985</th>\n",
       "      <td>0.182292</td>\n",
       "      <td>0.506667</td>\n",
       "      <td>-0.322222</td>\n",
       "      <td>-0.127778</td>\n",
       "      <td>-0.508767</td>\n",
       "      <td>-0.140924</td>\n",
       "    </tr>\n",
       "  </tbody>\n",
       "</table>\n",
       "<p>120 rows × 6 columns</p>\n",
       "</div>"
      ],
      "text/plain": [
       "      Road_Type  Speed_limit  Light_Conditions  Road_Surface_Conditions  \\\n",
       "0     -0.192708    -0.093333          0.177778                -0.127778   \n",
       "1      0.182292    -0.093333          0.177778                -0.127778   \n",
       "2      0.182292    -0.293333          0.177778                -0.127778   \n",
       "3     -0.192708    -0.093333          0.177778                 0.205556   \n",
       "4      0.182292    -0.093333          0.177778                 0.205556   \n",
       "...         ...          ...               ...                      ...   \n",
       "1879  -0.442708    -0.093333         -0.322222                -0.127778   \n",
       "1939  -0.442708    -0.093333         -0.322222                -0.127778   \n",
       "1971   0.182292    -0.093333          0.177778                -0.127778   \n",
       "1973   0.557292    -0.093333         -0.322222                -0.127778   \n",
       "1985   0.182292     0.506667         -0.322222                -0.127778   \n",
       "\n",
       "      Longitude  Latitude  \n",
       "0     -0.055001 -0.008382  \n",
       "1      0.182258  0.035307  \n",
       "2     -0.007522  0.006580  \n",
       "3      0.171245  0.007836  \n",
       "4      0.206862 -0.168850  \n",
       "...         ...       ...  \n",
       "1879   0.364413 -0.022779  \n",
       "1939   0.179409  0.142613  \n",
       "1971  -0.502748 -0.168743  \n",
       "1973  -0.032069 -0.101280  \n",
       "1985  -0.508767 -0.140924  \n",
       "\n",
       "[120 rows x 6 columns]"
      ]
     },
     "execution_count": 118,
     "metadata": {},
     "output_type": "execute_result"
    }
   ],
   "source": [
    "data_scope_scaller = (data-data.mean())/(data.max() - data.min())\n",
    "data_scope_scaller"
   ]
  },
  {
   "cell_type": "markdown",
   "metadata": {},
   "source": [
    "А теперь визуализируем обе нормализации с помощью SVD."
   ]
  },
  {
   "cell_type": "code",
   "execution_count": 119,
   "metadata": {},
   "outputs": [
    {
     "name": "stdout",
     "output_type": "stream",
     "text": [
      "(120, 120) (6,) (6, 6)\n"
     ]
    }
   ],
   "source": [
    "u, s, v = np.linalg.svd(data_zscoring, full_matrices=True)\n",
    "print(u.shape, s.shape, v.shape)"
   ]
  },
  {
   "cell_type": "code",
   "execution_count": 120,
   "metadata": {},
   "outputs": [
    {
     "data": {
      "image/png": "[encoded data removed]",
      "text/plain": [
       "<Figure size 432x288 with 1 Axes>"
      ]
     },
     "metadata": {
      "needs_background": "light"
     },
     "output_type": "display_data"
    }
   ],
   "source": [
    "var_explained = np.round(s**2/np.sum(s**2), decimals=3)\n",
    "var_explained\n",
    " \n",
    "sns.barplot(x=list(range(1,len(var_explained)+1)),\n",
    "            y=var_explained, color=\"limegreen\")\n",
    "plt.xlabel('SVs', fontsize=16)\n",
    "plt.ylabel('Percent Variance Explained', fontsize=16)\n",
    "plt.savefig('svd_scree_plot.png',dpi=100)"
   ]
  },
  {
   "cell_type": "code",
   "execution_count": 121,
   "metadata": {},
   "outputs": [
    {
     "data": {
      "text/plain": [
       "Text(0.5, 1.0, 'Z-SCORING')"
      ]
     },
     "execution_count": 121,
     "metadata": {},
     "output_type": "execute_result"
    },
    {
     "data": {
      "image/png": "[encoded data removed]",
      "text/plain": [
       "<Figure size 432x288 with 1 Axes>"
      ]
     },
     "metadata": {
      "needs_background": "light"
     },
     "output_type": "display_data"
    }
   ],
   "source": [
    "labels= ['SV'+str(i) for i in range(1,3)]\n",
    "svd_df = pandas.DataFrame(u[:,[0,1]], index=data_with_area[\"Urban_or_Rural_Area\"].tolist(), columns=labels)\n",
    "svd_df=svd_df.reset_index()\n",
    "svd_df.rename(columns={'index':'Urban_or_Rural_Area'}, inplace=True)\n",
    "color_dict = dict({1:'Black',\n",
    "                   2: 'Red'})\n",
    "sns.scatterplot(x=\"SV1\", y=\"SV2\", hue=\"Urban_or_Rural_Area\", \n",
    "                palette=color_dict, \n",
    "                data=svd_df, s=100,\n",
    "                alpha=0.7)\n",
    "plt.xlabel('SV 1: {0}%'.format(var_explained[0]*100))\n",
    "plt.ylabel('SV 2: {0}%'.format(var_explained[1]*100))\n",
    "plt.title(\"Z-SCORING\")"
   ]
  },
  {
   "cell_type": "markdown",
   "metadata": {},
   "source": [
    "Такая визуализация получилась для z-scoring"
   ]
  },
  {
   "cell_type": "code",
   "execution_count": 122,
   "metadata": {},
   "outputs": [
    {
     "name": "stdout",
     "output_type": "stream",
     "text": [
      "(120, 120) (6,) (6, 6)\n"
     ]
    }
   ],
   "source": [
    "u, s, v = np.linalg.svd(data_scope_scaller, full_matrices=True)\n",
    "print(u.shape, s.shape, v.shape)"
   ]
  },
  {
   "cell_type": "code",
   "execution_count": 123,
   "metadata": {},
   "outputs": [
    {
     "data": {
      "image/png": "[encoded data removed]",
      "text/plain": [
       "<Figure size 432x288 with 1 Axes>"
      ]
     },
     "metadata": {
      "needs_background": "light"
     },
     "output_type": "display_data"
    }
   ],
   "source": [
    "var_explained = np.round(s**2/np.sum(s**2), decimals=3)\n",
    "var_explained\n",
    " \n",
    "sns.barplot(x=list(range(1,len(var_explained)+1)),\n",
    "            y=var_explained, color=\"limegreen\")\n",
    "plt.xlabel('SVs', fontsize=16)\n",
    "plt.ylabel('Percent Variance Explained', fontsize=16)\n",
    "plt.savefig('svd_scree_plot.png',dpi=100)"
   ]
  },
  {
   "cell_type": "code",
   "execution_count": 124,
   "metadata": {},
   "outputs": [
    {
     "data": {
      "text/plain": [
       "Text(0.5, 1.0, 'Scope scaller')"
      ]
     },
     "execution_count": 124,
     "metadata": {},
     "output_type": "execute_result"
    },
    {
     "data": {
      "image/png": "[encoded data removed]",
      "text/plain": [
       "<Figure size 432x288 with 1 Axes>"
      ]
     },
     "metadata": {
      "needs_background": "light"
     },
     "output_type": "display_data"
    }
   ],
   "source": [
    "labels= ['SV'+str(i) for i in range(1,3)]\n",
    "svd_df = pandas.DataFrame(u[:,[0,1]], index=data_with_area[\"Urban_or_Rural_Area\"].tolist(), columns=labels)\n",
    "svd_df=svd_df.reset_index()\n",
    "svd_df.rename(columns={'index':'Urban_or_Rural_Area'}, inplace=True)\n",
    "color_dict = dict({1:'Black',\n",
    "                   2: 'Red'})\n",
    "sns.scatterplot(x=\"SV1\", y=\"SV2\", hue=\"Urban_or_Rural_Area\", \n",
    "                palette=color_dict, \n",
    "                data=svd_df, s=100,\n",
    "                alpha=0.7)\n",
    "plt.xlabel('SV 1: {0}%'.format(var_explained[0]*100))\n",
    "plt.ylabel('SV 2: {0}%'.format(var_explained[1]*100))\n",
    "plt.title(\"Scope scaller\")"
   ]
  },
  {
   "cell_type": "markdown",
   "metadata": {},
   "source": [
    "А такая для нормализации размахом."
   ]
  },
  {
   "cell_type": "markdown",
   "metadata": {},
   "source": [
    "А теперь применим МГК для визуализации. Сделаем это для нормализации размахом."
   ]
  },
  {
   "cell_type": "code",
   "execution_count": 149,
   "metadata": {},
   "outputs": [],
   "source": [
    "from sklearn.decomposition import PCA\n",
    "\n",
    "pca = PCA(n_components=2)\n",
    "features = pca.fit_transform(data_scope_scaller)"
   ]
  },
  {
   "cell_type": "code",
   "execution_count": 150,
   "metadata": {},
   "outputs": [],
   "source": [
    "res = pandas.DataFrame(features, index=data_with_area[\"Urban_or_Rural_Area\"].tolist())\n",
    "res=res.reset_index()\n",
    "res.rename(columns={'index':'Urban_or_Rural_Area'}, inplace=True)"
   ]
  },
  {
   "cell_type": "code",
   "execution_count": 151,
   "metadata": {},
   "outputs": [
    {
     "data": {
      "text/html": [
       "<div>\n",
       "<style scoped>\n",
       "    .dataframe tbody tr th:only-of-type {\n",
       "        vertical-align: middle;\n",
       "    }\n",
       "\n",
       "    .dataframe tbody tr th {\n",
       "        vertical-align: top;\n",
       "    }\n",
       "\n",
       "    .dataframe thead th {\n",
       "        text-align: right;\n",
       "    }\n",
       "</style>\n",
       "<table border=\"1\" class=\"dataframe\">\n",
       "  <thead>\n",
       "    <tr style=\"text-align: right;\">\n",
       "      <th></th>\n",
       "      <th>Urban_or_Rural_Area</th>\n",
       "      <th>0</th>\n",
       "      <th>1</th>\n",
       "    </tr>\n",
       "  </thead>\n",
       "  <tbody>\n",
       "    <tr>\n",
       "      <th>0</th>\n",
       "      <td>1</td>\n",
       "      <td>-0.064333</td>\n",
       "      <td>0.195152</td>\n",
       "    </tr>\n",
       "    <tr>\n",
       "      <th>1</th>\n",
       "      <td>1</td>\n",
       "      <td>-0.120355</td>\n",
       "      <td>0.120169</td>\n",
       "    </tr>\n",
       "    <tr>\n",
       "      <th>2</th>\n",
       "      <td>1</td>\n",
       "      <td>-0.344135</td>\n",
       "      <td>0.071227</td>\n",
       "    </tr>\n",
       "    <tr>\n",
       "      <th>3</th>\n",
       "      <td>1</td>\n",
       "      <td>0.027712</td>\n",
       "      <td>0.229063</td>\n",
       "    </tr>\n",
       "    <tr>\n",
       "      <th>4</th>\n",
       "      <td>1</td>\n",
       "      <td>-0.159319</td>\n",
       "      <td>0.089979</td>\n",
       "    </tr>\n",
       "    <tr>\n",
       "      <th>...</th>\n",
       "      <td>...</td>\n",
       "      <td>...</td>\n",
       "      <td>...</td>\n",
       "    </tr>\n",
       "    <tr>\n",
       "      <th>115</th>\n",
       "      <td>2</td>\n",
       "      <td>0.365423</td>\n",
       "      <td>-0.162231</td>\n",
       "    </tr>\n",
       "    <tr>\n",
       "      <th>116</th>\n",
       "      <td>2</td>\n",
       "      <td>0.330689</td>\n",
       "      <td>-0.143752</td>\n",
       "    </tr>\n",
       "    <tr>\n",
       "      <th>117</th>\n",
       "      <td>2</td>\n",
       "      <td>-0.438788</td>\n",
       "      <td>0.016920</td>\n",
       "    </tr>\n",
       "    <tr>\n",
       "      <th>118</th>\n",
       "      <td>2</td>\n",
       "      <td>-0.236454</td>\n",
       "      <td>-0.493853</td>\n",
       "    </tr>\n",
       "    <tr>\n",
       "      <th>119</th>\n",
       "      <td>2</td>\n",
       "      <td>0.151855</td>\n",
       "      <td>-0.360562</td>\n",
       "    </tr>\n",
       "  </tbody>\n",
       "</table>\n",
       "<p>120 rows × 3 columns</p>\n",
       "</div>"
      ],
      "text/plain": [
       "     Urban_or_Rural_Area         0         1\n",
       "0                      1 -0.064333  0.195152\n",
       "1                      1 -0.120355  0.120169\n",
       "2                      1 -0.344135  0.071227\n",
       "3                      1  0.027712  0.229063\n",
       "4                      1 -0.159319  0.089979\n",
       "..                   ...       ...       ...\n",
       "115                    2  0.365423 -0.162231\n",
       "116                    2  0.330689 -0.143752\n",
       "117                    2 -0.438788  0.016920\n",
       "118                    2 -0.236454 -0.493853\n",
       "119                    2  0.151855 -0.360562\n",
       "\n",
       "[120 rows x 3 columns]"
      ]
     },
     "execution_count": 151,
     "metadata": {},
     "output_type": "execute_result"
    }
   ],
   "source": [
    "res"
   ]
  },
  {
   "cell_type": "code",
   "execution_count": 152,
   "metadata": {},
   "outputs": [
    {
     "data": {
      "text/plain": [
       "Text(0.5, 1.0, 'Scope scaller')"
      ]
     },
     "execution_count": 152,
     "metadata": {},
     "output_type": "execute_result"
    },
    {
     "data": {
      "image/png": "[encoded data removed]",
      "text/plain": [
       "<Figure size 432x288 with 1 Axes>"
      ]
     },
     "metadata": {
      "needs_background": "light"
     },
     "output_type": "display_data"
    }
   ],
   "source": [
    "color_dict = dict({1:'Black',\n",
    "                   2: 'Red'})\n",
    "sns.scatterplot(x=0, y=1, hue=\"Urban_or_Rural_Area\", \n",
    "                palette=color_dict, \n",
    "                data=res, s=100,\n",
    "                alpha=0.7)\n",
    "\n",
    "plt.title(\"Scope scaller\")"
   ]
  },
  {
   "cell_type": "markdown",
   "metadata": {},
   "source": [
    "Неплохо!! Получилось точно так же как и при SVD. Только отзеркалено. Применим немного магии..."
   ]
  },
  {
   "cell_type": "code",
   "execution_count": 153,
   "metadata": {},
   "outputs": [
    {
     "data": {
      "text/plain": [
       "Text(0.5, 1.0, 'Scope scaller')"
      ]
     },
     "execution_count": 153,
     "metadata": {},
     "output_type": "execute_result"
    },
    {
     "data": {
      "image/png": "[encoded data removed]",
      "text/plain": [
       "<Figure size 432x288 with 1 Axes>"
      ]
     },
     "metadata": {
      "needs_background": "light"
     },
     "output_type": "display_data"
    }
   ],
   "source": [
    "res[0] = res[0] * -1\n",
    "color_dict = dict({1:'Black',\n",
    "                   2: 'Red'})\n",
    "sns.scatterplot(x=0, y=1, hue=\"Urban_or_Rural_Area\", \n",
    "                palette=color_dict, \n",
    "                data=res, s=100,\n",
    "                alpha=0.7)\n",
    "\n",
    "plt.title(\"Scope scaller\")"
   ]
  },
  {
   "cell_type": "markdown",
   "metadata": {},
   "source": [
    "Вуаля. Теперь визуализация один в один! В чём и требовалось убедиться)"
   ]
  },
  {
   "cell_type": "markdown",
   "metadata": {},
   "source": [
    "Пытался разбить на категории аварий в городской и сельской местностях. Но так как аварий с сельской местностью довольно мало - получилось не прям супер. НО ОЧЕНЬ ДАЖЕ НИЧЕГО!\n",
    "\n",
    "Дело в том что каких-то признаков для сельской местности особо нет. Только ширина и долгота(и, возможно, тип доороги)помогают это сделать. \n",
    "\n",
    "Но на визуализации явно видно, что всё-таки есть чёткое разделение на две группы!"
   ]
  }
 ],
 "metadata": {
  "kernelspec": {
   "display_name": "Python 3",
   "language": "python",
   "name": "python3"
  },
  "language_info": {
   "codemirror_mode": {
    "name": "ipython",
    "version": 3
   },
   "file_extension": ".py",
   "mimetype": "text/x-python",
   "name": "python",
   "nbconvert_exporter": "python",
   "pygments_lexer": "ipython3",
   "version": "3.6.8"
  }
 },
 "nbformat": 4,
 "nbformat_minor": 2
}
