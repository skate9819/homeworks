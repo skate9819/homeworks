{
 "cells": [
  {
   "cell_type": "markdown",
   "metadata": {},
   "source": [
    "# Домашнее задание 6"
   ]
  },
  {
   "cell_type": "markdown",
   "metadata": {},
   "source": [
    "•По возможности, найдите два признака в Ваших данных с\n",
    "более или менее «линейным» полем рассеяния;\n",
    "представьте его на графике.\n",
    "\n",
    "• Постройте уравнение линейной регрессии одного из этих\n",
    "признаков через другой признак. Сделайте комментарий о\n",
    "смысле величины регрессионного коэффициента при этом\n",
    "другом признаке.\n",
    "\n",
    "• Найдите значения коэффициентов корреляции и\n",
    "детерминации; сделайте комментарий о смысле величины\n",
    "последнего.\n",
    "\n",
    "• Сделайте предсказание величины целевого признака на\n",
    "двух-трех объектах; прокомментируйте результат.\n",
    "\n",
    "• Рассчитайте среднюю относительную ошибку регрессионного уравнения на всех объектах Вашей таблицы данных и\n",
    "сравните ее с величиной коэффициента детерминации."
   ]
  },
  {
   "cell_type": "markdown",
   "metadata": {},
   "source": [
    "## Решение:"
   ]
  },
  {
   "cell_type": "markdown",
   "metadata": {},
   "source": [
    "Для начала загрузим все данные."
   ]
  },
  {
   "cell_type": "code",
   "execution_count": 79,
   "metadata": {},
   "outputs": [
    {
     "data": {
      "text/html": [
       "<div>\n",
       "<style scoped>\n",
       "    .dataframe tbody tr th:only-of-type {\n",
       "        vertical-align: middle;\n",
       "    }\n",
       "\n",
       "    .dataframe tbody tr th {\n",
       "        vertical-align: top;\n",
       "    }\n",
       "\n",
       "    .dataframe thead th {\n",
       "        text-align: right;\n",
       "    }\n",
       "</style>\n",
       "<table border=\"1\" class=\"dataframe\">\n",
       "  <thead>\n",
       "    <tr style=\"text-align: right;\">\n",
       "      <th></th>\n",
       "      <th>Unnamed: 0</th>\n",
       "      <th>Accident_Severity</th>\n",
       "      <th>Number_of_Vehicles</th>\n",
       "      <th>Number_of_Casualties</th>\n",
       "      <th>Date</th>\n",
       "      <th>Day_of_Week</th>\n",
       "      <th>Time</th>\n",
       "      <th>Road_Type</th>\n",
       "      <th>Speed_limit</th>\n",
       "      <th>Light_Conditions</th>\n",
       "      <th>Weather_Conditions</th>\n",
       "      <th>Road_Surface_Conditions</th>\n",
       "      <th>Carriageway_Hazards</th>\n",
       "      <th>Urban_or_Rural_Area</th>\n",
       "      <th>Longitude</th>\n",
       "      <th>Latitude</th>\n",
       "    </tr>\n",
       "  </thead>\n",
       "  <tbody>\n",
       "    <tr>\n",
       "      <th>0</th>\n",
       "      <td>1</td>\n",
       "      <td>3</td>\n",
       "      <td>2</td>\n",
       "      <td>2</td>\n",
       "      <td>01/01/2018</td>\n",
       "      <td>2</td>\n",
       "      <td>01:30</td>\n",
       "      <td>3</td>\n",
       "      <td>30</td>\n",
       "      <td>4</td>\n",
       "      <td>1</td>\n",
       "      <td>1</td>\n",
       "      <td>0</td>\n",
       "      <td>1</td>\n",
       "      <td>-0.139737</td>\n",
       "      <td>51.524587</td>\n",
       "    </tr>\n",
       "    <tr>\n",
       "      <th>1</th>\n",
       "      <td>2</td>\n",
       "      <td>3</td>\n",
       "      <td>1</td>\n",
       "      <td>1</td>\n",
       "      <td>01/01/2018</td>\n",
       "      <td>2</td>\n",
       "      <td>00:50</td>\n",
       "      <td>6</td>\n",
       "      <td>30</td>\n",
       "      <td>4</td>\n",
       "      <td>1</td>\n",
       "      <td>1</td>\n",
       "      <td>0</td>\n",
       "      <td>1</td>\n",
       "      <td>0.046471</td>\n",
       "      <td>51.539651</td>\n",
       "    </tr>\n",
       "    <tr>\n",
       "      <th>2</th>\n",
       "      <td>3</td>\n",
       "      <td>3</td>\n",
       "      <td>2</td>\n",
       "      <td>1</td>\n",
       "      <td>01/01/2018</td>\n",
       "      <td>2</td>\n",
       "      <td>00:45</td>\n",
       "      <td>6</td>\n",
       "      <td>20</td>\n",
       "      <td>4</td>\n",
       "      <td>1</td>\n",
       "      <td>1</td>\n",
       "      <td>0</td>\n",
       "      <td>1</td>\n",
       "      <td>-0.102474</td>\n",
       "      <td>51.529746</td>\n",
       "    </tr>\n",
       "    <tr>\n",
       "      <th>3</th>\n",
       "      <td>4</td>\n",
       "      <td>2</td>\n",
       "      <td>2</td>\n",
       "      <td>1</td>\n",
       "      <td>01/01/2018</td>\n",
       "      <td>2</td>\n",
       "      <td>03:00</td>\n",
       "      <td>3</td>\n",
       "      <td>30</td>\n",
       "      <td>4</td>\n",
       "      <td>2</td>\n",
       "      <td>2</td>\n",
       "      <td>0</td>\n",
       "      <td>1</td>\n",
       "      <td>0.037828</td>\n",
       "      <td>51.530179</td>\n",
       "    </tr>\n",
       "    <tr>\n",
       "      <th>4</th>\n",
       "      <td>5</td>\n",
       "      <td>2</td>\n",
       "      <td>2</td>\n",
       "      <td>2</td>\n",
       "      <td>01/01/2018</td>\n",
       "      <td>2</td>\n",
       "      <td>02:20</td>\n",
       "      <td>6</td>\n",
       "      <td>30</td>\n",
       "      <td>4</td>\n",
       "      <td>1</td>\n",
       "      <td>2</td>\n",
       "      <td>0</td>\n",
       "      <td>1</td>\n",
       "      <td>0.065781</td>\n",
       "      <td>51.469258</td>\n",
       "    </tr>\n",
       "  </tbody>\n",
       "</table>\n",
       "</div>"
      ],
      "text/plain": [
       "   Unnamed: 0  Accident_Severity  Number_of_Vehicles  Number_of_Casualties  \\\n",
       "0           1                  3                   2                     2   \n",
       "1           2                  3                   1                     1   \n",
       "2           3                  3                   2                     1   \n",
       "3           4                  2                   2                     1   \n",
       "4           5                  2                   2                     2   \n",
       "\n",
       "         Date  Day_of_Week   Time  Road_Type  Speed_limit  Light_Conditions  \\\n",
       "0  01/01/2018            2  01:30          3           30                 4   \n",
       "1  01/01/2018            2  00:50          6           30                 4   \n",
       "2  01/01/2018            2  00:45          6           20                 4   \n",
       "3  01/01/2018            2  03:00          3           30                 4   \n",
       "4  01/01/2018            2  02:20          6           30                 4   \n",
       "\n",
       "   Weather_Conditions  Road_Surface_Conditions  Carriageway_Hazards  \\\n",
       "0                   1                        1                    0   \n",
       "1                   1                        1                    0   \n",
       "2                   1                        1                    0   \n",
       "3                   2                        2                    0   \n",
       "4                   1                        2                    0   \n",
       "\n",
       "   Urban_or_Rural_Area  Longitude   Latitude  \n",
       "0                    1  -0.139737  51.524587  \n",
       "1                    1   0.046471  51.539651  \n",
       "2                    1  -0.102474  51.529746  \n",
       "3                    1   0.037828  51.530179  \n",
       "4                    1   0.065781  51.469258  "
      ]
     },
     "execution_count": 79,
     "metadata": {},
     "output_type": "execute_result"
    }
   ],
   "source": [
    "import pandas\n",
    "import numpy as np\n",
    "import matplotlib.pyplot as plt\n",
    "import math\n",
    "\n",
    "data = pandas.read_csv('../data/RoadSafetyData_Accidents_2018.csv')\n",
    "data.head()"
   ]
  },
  {
   "cell_type": "code",
   "execution_count": 80,
   "metadata": {},
   "outputs": [
    {
     "data": {
      "text/plain": [
       "Index(['Unnamed: 0', 'Accident_Severity', 'Number_of_Vehicles',\n",
       "       'Number_of_Casualties', 'Date', 'Day_of_Week', 'Time', 'Road_Type',\n",
       "       'Speed_limit', 'Light_Conditions', 'Weather_Conditions',\n",
       "       'Road_Surface_Conditions', 'Carriageway_Hazards', 'Urban_or_Rural_Area',\n",
       "       'Longitude', 'Latitude'],\n",
       "      dtype='object')"
      ]
     },
     "execution_count": 80,
     "metadata": {},
     "output_type": "execute_result"
    }
   ],
   "source": [
    "data.columns"
   ]
  },
  {
   "cell_type": "markdown",
   "metadata": {},
   "source": [
    "Так как я уже знаю какие у меня признаки(по предыдущим дз), то я уже могу сказать что признаков с более или менее «линейным» полем рассеяния нет в моем наборе данных."
   ]
  },
  {
   "cell_type": "markdown",
   "metadata": {},
   "source": [
    "Но для нагляности убедимся в этом. Построим график корреляций:"
   ]
  },
  {
   "cell_type": "code",
   "execution_count": 81,
   "metadata": {},
   "outputs": [
    {
     "data": {
      "image/png": "[encoded data removed]",
      "text/plain": [
       "<Figure size 432x288 with 2 Axes>"
      ]
     },
     "metadata": {
      "needs_background": "light"
     },
     "output_type": "display_data"
    }
   ],
   "source": [
    "import seaborn as sns\n",
    "sns.heatmap(data.corr());\n"
   ]
  },
  {
   "cell_type": "markdown",
   "metadata": {},
   "source": [
    "Чего и требовалось доказать. Признаков с более или менее «линейным» полем рассеяния нет. \n",
    "\n",
    "Единственное что бросается в глаза - небольшая зависимость(очень небольшая) признков 'Urban_or_Rural_Area' и 'Speed_limit'"
   ]
  },
  {
   "cell_type": "markdown",
   "metadata": {},
   "source": [
    "Попробуем немного сократить наш набор данных, так как 2000 объектов - многовато."
   ]
  },
  {
   "cell_type": "code",
   "execution_count": 82,
   "metadata": {},
   "outputs": [],
   "source": [
    "rural_data = data[data['Urban_or_Rural_Area'] == 2]"
   ]
  },
  {
   "cell_type": "code",
   "execution_count": 83,
   "metadata": {},
   "outputs": [],
   "source": [
    "data.drop(data.tail(data.shape[0] - 60).index, inplace=True)\n",
    "data.drop(data[data['Urban_or_Rural_Area'] == 2].index, axis=0)\n",
    "data = data.append(rural_data)"
   ]
  },
  {
   "cell_type": "code",
   "execution_count": 84,
   "metadata": {},
   "outputs": [
    {
     "data": {
      "text/html": [
       "<div>\n",
       "<style scoped>\n",
       "    .dataframe tbody tr th:only-of-type {\n",
       "        vertical-align: middle;\n",
       "    }\n",
       "\n",
       "    .dataframe tbody tr th {\n",
       "        vertical-align: top;\n",
       "    }\n",
       "\n",
       "    .dataframe thead th {\n",
       "        text-align: right;\n",
       "    }\n",
       "</style>\n",
       "<table border=\"1\" class=\"dataframe\">\n",
       "  <thead>\n",
       "    <tr style=\"text-align: right;\">\n",
       "      <th></th>\n",
       "      <th>Unnamed: 0</th>\n",
       "      <th>Accident_Severity</th>\n",
       "      <th>Number_of_Vehicles</th>\n",
       "      <th>Number_of_Casualties</th>\n",
       "      <th>Date</th>\n",
       "      <th>Day_of_Week</th>\n",
       "      <th>Time</th>\n",
       "      <th>Road_Type</th>\n",
       "      <th>Speed_limit</th>\n",
       "      <th>Light_Conditions</th>\n",
       "      <th>Weather_Conditions</th>\n",
       "      <th>Road_Surface_Conditions</th>\n",
       "      <th>Carriageway_Hazards</th>\n",
       "      <th>Urban_or_Rural_Area</th>\n",
       "      <th>Longitude</th>\n",
       "      <th>Latitude</th>\n",
       "    </tr>\n",
       "  </thead>\n",
       "  <tbody>\n",
       "    <tr>\n",
       "      <th>0</th>\n",
       "      <td>1</td>\n",
       "      <td>3</td>\n",
       "      <td>2</td>\n",
       "      <td>2</td>\n",
       "      <td>01/01/2018</td>\n",
       "      <td>2</td>\n",
       "      <td>01:30</td>\n",
       "      <td>3</td>\n",
       "      <td>30</td>\n",
       "      <td>4</td>\n",
       "      <td>1</td>\n",
       "      <td>1</td>\n",
       "      <td>0</td>\n",
       "      <td>1</td>\n",
       "      <td>-0.139737</td>\n",
       "      <td>51.524587</td>\n",
       "    </tr>\n",
       "    <tr>\n",
       "      <th>1</th>\n",
       "      <td>2</td>\n",
       "      <td>3</td>\n",
       "      <td>1</td>\n",
       "      <td>1</td>\n",
       "      <td>01/01/2018</td>\n",
       "      <td>2</td>\n",
       "      <td>00:50</td>\n",
       "      <td>6</td>\n",
       "      <td>30</td>\n",
       "      <td>4</td>\n",
       "      <td>1</td>\n",
       "      <td>1</td>\n",
       "      <td>0</td>\n",
       "      <td>1</td>\n",
       "      <td>0.046471</td>\n",
       "      <td>51.539651</td>\n",
       "    </tr>\n",
       "    <tr>\n",
       "      <th>2</th>\n",
       "      <td>3</td>\n",
       "      <td>3</td>\n",
       "      <td>2</td>\n",
       "      <td>1</td>\n",
       "      <td>01/01/2018</td>\n",
       "      <td>2</td>\n",
       "      <td>00:45</td>\n",
       "      <td>6</td>\n",
       "      <td>20</td>\n",
       "      <td>4</td>\n",
       "      <td>1</td>\n",
       "      <td>1</td>\n",
       "      <td>0</td>\n",
       "      <td>1</td>\n",
       "      <td>-0.102474</td>\n",
       "      <td>51.529746</td>\n",
       "    </tr>\n",
       "    <tr>\n",
       "      <th>3</th>\n",
       "      <td>4</td>\n",
       "      <td>2</td>\n",
       "      <td>2</td>\n",
       "      <td>1</td>\n",
       "      <td>01/01/2018</td>\n",
       "      <td>2</td>\n",
       "      <td>03:00</td>\n",
       "      <td>3</td>\n",
       "      <td>30</td>\n",
       "      <td>4</td>\n",
       "      <td>2</td>\n",
       "      <td>2</td>\n",
       "      <td>0</td>\n",
       "      <td>1</td>\n",
       "      <td>0.037828</td>\n",
       "      <td>51.530179</td>\n",
       "    </tr>\n",
       "    <tr>\n",
       "      <th>4</th>\n",
       "      <td>5</td>\n",
       "      <td>2</td>\n",
       "      <td>2</td>\n",
       "      <td>2</td>\n",
       "      <td>01/01/2018</td>\n",
       "      <td>2</td>\n",
       "      <td>02:20</td>\n",
       "      <td>6</td>\n",
       "      <td>30</td>\n",
       "      <td>4</td>\n",
       "      <td>1</td>\n",
       "      <td>2</td>\n",
       "      <td>0</td>\n",
       "      <td>1</td>\n",
       "      <td>0.065781</td>\n",
       "      <td>51.469258</td>\n",
       "    </tr>\n",
       "  </tbody>\n",
       "</table>\n",
       "</div>"
      ],
      "text/plain": [
       "   Unnamed: 0  Accident_Severity  Number_of_Vehicles  Number_of_Casualties  \\\n",
       "0           1                  3                   2                     2   \n",
       "1           2                  3                   1                     1   \n",
       "2           3                  3                   2                     1   \n",
       "3           4                  2                   2                     1   \n",
       "4           5                  2                   2                     2   \n",
       "\n",
       "         Date  Day_of_Week   Time  Road_Type  Speed_limit  Light_Conditions  \\\n",
       "0  01/01/2018            2  01:30          3           30                 4   \n",
       "1  01/01/2018            2  00:50          6           30                 4   \n",
       "2  01/01/2018            2  00:45          6           20                 4   \n",
       "3  01/01/2018            2  03:00          3           30                 4   \n",
       "4  01/01/2018            2  02:20          6           30                 4   \n",
       "\n",
       "   Weather_Conditions  Road_Surface_Conditions  Carriageway_Hazards  \\\n",
       "0                   1                        1                    0   \n",
       "1                   1                        1                    0   \n",
       "2                   1                        1                    0   \n",
       "3                   2                        2                    0   \n",
       "4                   1                        2                    0   \n",
       "\n",
       "   Urban_or_Rural_Area  Longitude   Latitude  \n",
       "0                    1  -0.139737  51.524587  \n",
       "1                    1   0.046471  51.539651  \n",
       "2                    1  -0.102474  51.529746  \n",
       "3                    1   0.037828  51.530179  \n",
       "4                    1   0.065781  51.469258  "
      ]
     },
     "execution_count": 84,
     "metadata": {},
     "output_type": "execute_result"
    }
   ],
   "source": [
    "data.head()"
   ]
  },
  {
   "cell_type": "code",
   "execution_count": 85,
   "metadata": {},
   "outputs": [
    {
     "data": {
      "image/png": "[encoded data removed]",
      "text/plain": [
       "<Figure size 432x288 with 2 Axes>"
      ]
     },
     "metadata": {
      "needs_background": "light"
     },
     "output_type": "display_data"
    }
   ],
   "source": [
    "sns.heatmap(data.corr());"
   ]
  },
  {
   "cell_type": "markdown",
   "metadata": {},
   "source": [
    "Не особо помогло. "
   ]
  },
  {
   "cell_type": "markdown",
   "metadata": {},
   "source": [
    " Тогда возьмемем из того, что есть. Это будут признаки Number_of_Vehicles и Speed_limit. Понимаю, что теоретически нет никакой зависимости, но для нашего набора это лучший вариант."
   ]
  },
  {
   "cell_type": "code",
   "execution_count": 86,
   "metadata": {},
   "outputs": [
    {
     "data": {
      "image/png": "[encoded data removed]",
      "text/plain": [
       "<Figure size 936x360 with 1 Axes>"
      ]
     },
     "metadata": {
      "needs_background": "light"
     },
     "output_type": "display_data"
    }
   ],
   "source": [
    "f, (ax2) = plt.subplots(1, 1, figsize=(13, 5))\n",
    "ax2.scatter(data['Number_of_Vehicles'].values, data['Speed_limit'].values)\n",
    "ax2.set_xlabel('Number_of_Vehicles')\n",
    "ax2.set_ylabel(\"Speed_limit\")\n",
    "ax2.grid()"
   ]
  },
  {
   "cell_type": "markdown",
   "metadata": {},
   "source": [
    "Так себе график, но повторюсь, в нашем наборе нет другого выбора."
   ]
  },
  {
   "cell_type": "markdown",
   "metadata": {},
   "source": [
    "### Теперь построим уравнение регрессии"
   ]
  },
  {
   "cell_type": "code",
   "execution_count": 87,
   "metadata": {},
   "outputs": [
    {
     "data": {
      "text/plain": [
       "LinearRegression(copy_X=True, fit_intercept=True, n_jobs=None,\n",
       "         normalize=False)"
      ]
     },
     "execution_count": 87,
     "metadata": {},
     "output_type": "execute_result"
    }
   ],
   "source": [
    "import sklearn.linear_model as lm\n",
    "regression = lm.LinearRegression()\n",
    "regression.fit(data['Number_of_Vehicles'].values.reshape(-1, 1), data['Speed_limit'].values)"
   ]
  },
  {
   "cell_type": "code",
   "execution_count": 88,
   "metadata": {},
   "outputs": [
    {
     "data": {
      "text/plain": [
       "array([7.61592121])"
      ]
     },
     "execution_count": 88,
     "metadata": {},
     "output_type": "execute_result"
    }
   ],
   "source": [
    "regression.coef_"
   ]
  },
  {
   "cell_type": "code",
   "execution_count": 89,
   "metadata": {},
   "outputs": [
    {
     "data": {
      "text/plain": [
       "19.625222267815612"
      ]
     },
     "execution_count": 89,
     "metadata": {},
     "output_type": "execute_result"
    }
   ],
   "source": [
    "regression.intercept_"
   ]
  },
  {
   "cell_type": "markdown",
   "metadata": {},
   "source": [
    "Получили уравнение: $X_{Speed limit} = X_{Number of Vehicles} * 7.61592121 + 19.625222267815612$"
   ]
  },
  {
   "cell_type": "markdown",
   "metadata": {},
   "source": [
    "Это никак не совпадает с жизнеными реалиями, но это уравнени значит что при умноженнии числа транспортых средств в аврии на 7.61592121 и прибавлении числа 19.625222267815612 - мы получим скоростное ограничение того места, где была авария."
   ]
  },
  {
   "cell_type": "markdown",
   "metadata": {},
   "source": [
    "### Теперь посчитаем значения коэффициентов корреляции и детерминации"
   ]
  },
  {
   "cell_type": "code",
   "execution_count": 90,
   "metadata": {},
   "outputs": [
    {
     "name": "stdout",
     "output_type": "stream",
     "text": [
      "коэффициент корреляции равен  0.4103443701045131\n"
     ]
    }
   ],
   "source": [
    "print('коэффициент корреляции равен ', data.corr()['Speed_limit']['Number_of_Vehicles'])"
   ]
  },
  {
   "cell_type": "code",
   "execution_count": 92,
   "metadata": {},
   "outputs": [
    {
     "name": "stdout",
     "output_type": "stream",
     "text": [
      "коэффициент детерминации равен  0.1683825020764692\n"
     ]
    }
   ],
   "source": [
    "from sklearn.metrics import r2_score\n",
    "print('коэффициент детерминации равен ', \\\n",
    "    regression.score(data['Number_of_Vehicles'].values.reshape(-1, 1), data['Speed_limit'].values))"
   ]
  },
  {
   "cell_type": "markdown",
   "metadata": {},
   "source": [
    "Мы получили очень низкий коэффициент детерминации(всего 16%). Этим мы убедились в том, что никакой зависимости Speed_limit от Number_of_Vehicles - нет! Но так как это был единственный нормальный вариант для наших данных - попробовать стоило."
   ]
  },
  {
   "cell_type": "markdown",
   "metadata": {},
   "source": [
    "### Теперь сделаем предсказание величины целевого признака на двух-трех объектах"
   ]
  },
  {
   "cell_type": "markdown",
   "metadata": {},
   "source": [
    "А чтобы убедиться в неадекватности нашей модели - приведём пример трёх \"хороших\" предсказаний и трёх \"плохих\"."
   ]
  },
  {
   "cell_type": "code",
   "execution_count": 93,
   "metadata": {},
   "outputs": [
    {
     "data": {
      "text/plain": [
       "array([34.8570647 , 27.24114348, 34.8570647 , 34.8570647 , 34.8570647 ,\n",
       "       34.8570647 , 34.8570647 , 42.47298591, 34.8570647 , 34.8570647 ,\n",
       "       27.24114348, 27.24114348, 34.8570647 , 34.8570647 , 27.24114348,\n",
       "       34.8570647 , 34.8570647 , 34.8570647 , 34.8570647 , 34.8570647 ,\n",
       "       27.24114348, 27.24114348, 27.24114348, 34.8570647 , 34.8570647 ,\n",
       "       34.8570647 , 34.8570647 , 34.8570647 , 27.24114348, 27.24114348,\n",
       "       34.8570647 , 34.8570647 , 34.8570647 , 27.24114348, 34.8570647 ,\n",
       "       27.24114348, 34.8570647 , 34.8570647 , 34.8570647 , 34.8570647 ,\n",
       "       34.8570647 , 27.24114348, 42.47298591, 42.47298591, 34.8570647 ,\n",
       "       34.8570647 , 34.8570647 , 27.24114348, 27.24114348, 34.8570647 ,\n",
       "       34.8570647 , 27.24114348, 34.8570647 , 27.24114348, 34.8570647 ,\n",
       "       50.08890713, 34.8570647 , 34.8570647 , 34.8570647 , 27.24114348,\n",
       "       34.8570647 , 27.24114348, 34.8570647 , 34.8570647 , 27.24114348,\n",
       "       34.8570647 , 34.8570647 , 42.47298591, 42.47298591, 42.47298591,\n",
       "       34.8570647 , 42.47298591, 27.24114348, 34.8570647 , 34.8570647 ,\n",
       "       27.24114348, 34.8570647 , 34.8570647 , 34.8570647 , 27.24114348,\n",
       "       57.70482834, 34.8570647 , 34.8570647 , 50.08890713, 34.8570647 ,\n",
       "       50.08890713, 34.8570647 , 42.47298591, 34.8570647 , 34.8570647 ,\n",
       "       34.8570647 , 42.47298591, 27.24114348, 34.8570647 , 34.8570647 ,\n",
       "       34.8570647 , 42.47298591, 27.24114348, 34.8570647 , 27.24114348,\n",
       "       34.8570647 , 34.8570647 , 34.8570647 , 42.47298591, 34.8570647 ,\n",
       "       34.8570647 , 42.47298591, 34.8570647 , 42.47298591, 42.47298591,\n",
       "       34.8570647 , 34.8570647 , 34.8570647 , 34.8570647 , 34.8570647 ,\n",
       "       34.8570647 , 34.8570647 , 34.8570647 , 34.8570647 , 27.24114348])"
      ]
     },
     "execution_count": 93,
     "metadata": {},
     "output_type": "execute_result"
    }
   ],
   "source": [
    "regression.predict(data['Number_of_Vehicles'].values.reshape(-1, 1))"
   ]
  },
  {
   "cell_type": "code",
   "execution_count": 94,
   "metadata": {},
   "outputs": [
    {
     "data": {
      "text/plain": [
       "array([30, 30, 20, 30, 30, 30, 30, 30, 30, 30, 20, 20, 30, 30, 20, 30, 30,\n",
       "       30, 20, 30, 20, 20, 30, 30, 20, 40, 30, 20, 30, 30, 40, 20, 30, 30,\n",
       "       30, 30, 30, 30, 40, 30, 30, 30, 50, 30, 30, 30, 20, 20, 50, 20, 30,\n",
       "       20, 20, 30, 30, 20, 30, 30, 30, 20, 30, 30, 30, 70, 30, 30, 70, 40,\n",
       "       30, 50, 70, 40, 30, 50, 50, 30, 50, 50, 20, 40, 70, 30, 50, 70, 50,\n",
       "       70, 40, 40, 30, 30, 70, 30, 30, 40, 30, 50, 50, 30, 50, 20, 70, 30,\n",
       "       20, 70, 30, 30, 50, 40, 40, 30, 30, 30, 30, 30, 30, 30, 30, 30, 30,\n",
       "       60])"
      ]
     },
     "execution_count": 94,
     "metadata": {},
     "output_type": "execute_result"
    }
   ],
   "source": [
    "data['Speed_limit'].values"
   ]
  },
  {
   "cell_type": "markdown",
   "metadata": {},
   "source": [
    "Сверху два массива:\n",
    "- первый это наши предсказания\n",
    "- второй это реальные значениея признака Speed_limit"
   ]
  },
  {
   "cell_type": "markdown",
   "metadata": {},
   "source": [
    "Хорошие предсказания можно увидеть:\n",
    "- в первом, 4-7 объектах(и тд). Там количество транспортных средств равно 2. Предсказание нашей модели = 34.857, а на самом деле значение равно 30"
   ]
  },
  {
   "cell_type": "markdown",
   "metadata": {},
   "source": [
    "Плохие предсказания можно увидеть:\n",
    "- в 67, 71, 91 объектах. Там количество транспортных средств равно 2. Предсказание нашей модели = 34.857, а на самом деле значение равно 70"
   ]
  },
  {
   "cell_type": "markdown",
   "metadata": {},
   "source": [
    "Все это говорит о том, что наша модель просто подстроилась под самые частые комбинации числа транспортых средств и ограничения скорости. Ниакаой зависимости нет в этих признаках, просто очень часто в авариях участвуют именно два транчпортных средства, а ограничение скорости на этом участке дороги равно 30."
   ]
  },
  {
   "cell_type": "markdown",
   "metadata": {},
   "source": [
    "#### Теперь посчитаем  среднюю относительную ошибку регрессионного уравнения на всех объектах"
   ]
  },
  {
   "cell_type": "code",
   "execution_count": 101,
   "metadata": {},
   "outputs": [],
   "source": [
    "from sklearn.metrics import mean_absolute_error\n",
    "\n",
    "y_true = data['Speed_limit'].values\n",
    "y_pred = regression.predict(data['Number_of_Vehicles'].values.reshape(-1, 1))\n",
    "\n",
    "mape = np.mean(np.abs((y_true - y_pred) / y_true))"
   ]
  },
  {
   "cell_type": "code",
   "execution_count": 102,
   "metadata": {},
   "outputs": [
    {
     "name": "stdout",
     "output_type": "stream",
     "text": [
      "cредняя относительная ошибка регрессионного уравнения на всех объектах равна 0.26815897115240567\n"
     ]
    }
   ],
   "source": [
    "print('cредняя относительная ошибка регрессионного уравнения на всех объектах равна', mape)"
   ]
  }
 ],
 "metadata": {
  "kernelspec": {
   "display_name": "Python 3",
   "language": "python",
   "name": "python3"
  },
  "language_info": {
   "codemirror_mode": {
    "name": "ipython",
    "version": 3
   },
   "file_extension": ".py",
   "mimetype": "text/x-python",
   "name": "python",
   "nbconvert_exporter": "python",
   "pygments_lexer": "ipython3",
   "version": "3.7.1"
  }
 },
 "nbformat": 4,
 "nbformat_minor": 2
}
