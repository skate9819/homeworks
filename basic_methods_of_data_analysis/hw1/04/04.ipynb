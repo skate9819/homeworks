{
 "cells": [
  {
   "cell_type": "markdown",
   "metadata": {},
   "source": [
    "# Домашнее задание 4"
   ]
  },
  {
   "cell_type": "markdown",
   "metadata": {},
   "source": [
    "1. Сформируйте три номинальных признака х1, х2 и х3 (один из них, но не больше, может быть взят из Вашей таблицы данных)\n",
    "2. Сформируйте две таблицы сопряженности, х1 и х2, х1 и х3. Постройте также матрицы условных вероятностей (х1 от х2 и х1 от х3), а также таблицы коэффициентов Кетле. Прокомментируйте связи между категориями х1 и категориями х2 и х3.\n",
    "3. Вычислите и визуализируйте среднее значение индекса Кетле на построенных таблицах сопряженности.\n",
    "4. Прокомментируйте смысл значений индекса Кетле на двух-трех примерах."
   ]
  },
  {
   "cell_type": "markdown",
   "metadata": {},
   "source": [
    "# Решение"
   ]
  },
  {
   "cell_type": "code",
   "execution_count": 1,
   "metadata": {},
   "outputs": [
    {
     "data": {
      "text/html": [
       "<div>\n",
       "<style scoped>\n",
       "    .dataframe tbody tr th:only-of-type {\n",
       "        vertical-align: middle;\n",
       "    }\n",
       "\n",
       "    .dataframe tbody tr th {\n",
       "        vertical-align: top;\n",
       "    }\n",
       "\n",
       "    .dataframe thead th {\n",
       "        text-align: right;\n",
       "    }\n",
       "</style>\n",
       "<table border=\"1\" class=\"dataframe\">\n",
       "  <thead>\n",
       "    <tr style=\"text-align: right;\">\n",
       "      <th></th>\n",
       "      <th>Urban_or_Rural_Area</th>\n",
       "      <th>Number_of_Casualties</th>\n",
       "      <th>Time</th>\n",
       "    </tr>\n",
       "  </thead>\n",
       "  <tbody>\n",
       "    <tr>\n",
       "      <td>0</td>\n",
       "      <td>1</td>\n",
       "      <td>2</td>\n",
       "      <td>01:30</td>\n",
       "    </tr>\n",
       "    <tr>\n",
       "      <td>1</td>\n",
       "      <td>1</td>\n",
       "      <td>1</td>\n",
       "      <td>00:50</td>\n",
       "    </tr>\n",
       "    <tr>\n",
       "      <td>2</td>\n",
       "      <td>1</td>\n",
       "      <td>1</td>\n",
       "      <td>00:45</td>\n",
       "    </tr>\n",
       "    <tr>\n",
       "      <td>3</td>\n",
       "      <td>1</td>\n",
       "      <td>1</td>\n",
       "      <td>03:00</td>\n",
       "    </tr>\n",
       "    <tr>\n",
       "      <td>4</td>\n",
       "      <td>1</td>\n",
       "      <td>2</td>\n",
       "      <td>02:20</td>\n",
       "    </tr>\n",
       "  </tbody>\n",
       "</table>\n",
       "</div>"
      ],
      "text/plain": [
       "   Urban_or_Rural_Area  Number_of_Casualties   Time\n",
       "0                    1                     2  01:30\n",
       "1                    1                     1  00:50\n",
       "2                    1                     1  00:45\n",
       "3                    1                     1  03:00\n",
       "4                    1                     2  02:20"
      ]
     },
     "execution_count": 1,
     "metadata": {},
     "output_type": "execute_result"
    }
   ],
   "source": [
    "import pandas\n",
    "import numpy as np\n",
    "import matplotlib.pyplot as plt\n",
    "import math\n",
    "\n",
    "practice_data = pandas.read_csv('../data/RoadSafetyData_Accidents_2018.csv').filter(\n",
    "    items=['Urban_or_Rural_Area', 'Number_of_Casualties', 'Time'])\n",
    "practice_data.head()"
   ]
  },
  {
   "cell_type": "markdown",
   "metadata": {},
   "source": [
    "Признак Urban_or_Rural_Area - и так номанальный. \n",
    "\n",
    "Теперь сформируем два новых признака:\n",
    "\n",
    "\n",
    "- Type_of_number_of_Casualties - этот признак выведем из признака Number_of_Casualties. типы:\n",
    "\n",
    "    - 1(мало жертв), если жертва 1\n",
    "    - 2(среднее количество жертв), если жертв 2 или 3\n",
    "    - 3(большое количество жертв), если жертв больше 3\n",
    "\n",
    "\n",
    "- Part_of_days - этот признак выведем из признака Time. Часть дня: \n",
    "    - 1(утро) с 5 до 12 часов\n",
    "    - 2(день) с 12 до 22 часов\n",
    "    - 3(ночь) с 22 до 5 часов"
   ]
  },
  {
   "cell_type": "code",
   "execution_count": 2,
   "metadata": {},
   "outputs": [],
   "source": [
    "import time\n",
    "\n",
    "def convert_time(x):\n",
    "    t = time.strptime(x,'%H:%M')\n",
    "    new_time = 1\n",
    "    if t.tm_hour >= 12 and t.tm_hour < 22:\n",
    "        new_time = 2\n",
    "    if t.tm_hour >= 22 or t.tm_hour < 5:\n",
    "        new_time = 3\n",
    "    return new_time\n",
    "\n",
    "def convert_Number_of_Casualties(x):\n",
    "    if x == 1:\n",
    "        return 1\n",
    "    if x < 3:\n",
    "        return 2\n",
    "    return 3"
   ]
  },
  {
   "cell_type": "code",
   "execution_count": 3,
   "metadata": {},
   "outputs": [],
   "source": [
    "practice_data['Part_of_days'] = practice_data['Time'].map(lambda x: convert_time(x))\n",
    "practice_data['Type_of_number_of_Casualties'] = practice_data['Number_of_Casualties'].map(lambda x: convert_Number_of_Casualties(x))"
   ]
  },
  {
   "cell_type": "code",
   "execution_count": 4,
   "metadata": {},
   "outputs": [],
   "source": [
    "del practice_data['Time']\n",
    "del practice_data['Number_of_Casualties']"
   ]
  },
  {
   "cell_type": "code",
   "execution_count": 5,
   "metadata": {},
   "outputs": [
    {
     "data": {
      "text/html": [
       "<div>\n",
       "<style scoped>\n",
       "    .dataframe tbody tr th:only-of-type {\n",
       "        vertical-align: middle;\n",
       "    }\n",
       "\n",
       "    .dataframe tbody tr th {\n",
       "        vertical-align: top;\n",
       "    }\n",
       "\n",
       "    .dataframe thead th {\n",
       "        text-align: right;\n",
       "    }\n",
       "</style>\n",
       "<table border=\"1\" class=\"dataframe\">\n",
       "  <thead>\n",
       "    <tr style=\"text-align: right;\">\n",
       "      <th></th>\n",
       "      <th>Urban_or_Rural_Area</th>\n",
       "      <th>Part_of_days</th>\n",
       "      <th>Type_of_number_of_Casualties</th>\n",
       "    </tr>\n",
       "  </thead>\n",
       "  <tbody>\n",
       "    <tr>\n",
       "      <td>0</td>\n",
       "      <td>1</td>\n",
       "      <td>3</td>\n",
       "      <td>2</td>\n",
       "    </tr>\n",
       "    <tr>\n",
       "      <td>1</td>\n",
       "      <td>1</td>\n",
       "      <td>3</td>\n",
       "      <td>1</td>\n",
       "    </tr>\n",
       "    <tr>\n",
       "      <td>2</td>\n",
       "      <td>1</td>\n",
       "      <td>3</td>\n",
       "      <td>1</td>\n",
       "    </tr>\n",
       "    <tr>\n",
       "      <td>3</td>\n",
       "      <td>1</td>\n",
       "      <td>3</td>\n",
       "      <td>1</td>\n",
       "    </tr>\n",
       "    <tr>\n",
       "      <td>4</td>\n",
       "      <td>1</td>\n",
       "      <td>3</td>\n",
       "      <td>2</td>\n",
       "    </tr>\n",
       "    <tr>\n",
       "      <td>...</td>\n",
       "      <td>...</td>\n",
       "      <td>...</td>\n",
       "      <td>...</td>\n",
       "    </tr>\n",
       "    <tr>\n",
       "      <td>1995</td>\n",
       "      <td>1</td>\n",
       "      <td>2</td>\n",
       "      <td>1</td>\n",
       "    </tr>\n",
       "    <tr>\n",
       "      <td>1996</td>\n",
       "      <td>1</td>\n",
       "      <td>2</td>\n",
       "      <td>1</td>\n",
       "    </tr>\n",
       "    <tr>\n",
       "      <td>1997</td>\n",
       "      <td>1</td>\n",
       "      <td>3</td>\n",
       "      <td>1</td>\n",
       "    </tr>\n",
       "    <tr>\n",
       "      <td>1998</td>\n",
       "      <td>1</td>\n",
       "      <td>3</td>\n",
       "      <td>1</td>\n",
       "    </tr>\n",
       "    <tr>\n",
       "      <td>1999</td>\n",
       "      <td>1</td>\n",
       "      <td>3</td>\n",
       "      <td>1</td>\n",
       "    </tr>\n",
       "  </tbody>\n",
       "</table>\n",
       "<p>2000 rows × 3 columns</p>\n",
       "</div>"
      ],
      "text/plain": [
       "      Urban_or_Rural_Area  Part_of_days  Type_of_number_of_Casualties\n",
       "0                       1             3                             2\n",
       "1                       1             3                             1\n",
       "2                       1             3                             1\n",
       "3                       1             3                             1\n",
       "4                       1             3                             2\n",
       "...                   ...           ...                           ...\n",
       "1995                    1             2                             1\n",
       "1996                    1             2                             1\n",
       "1997                    1             3                             1\n",
       "1998                    1             3                             1\n",
       "1999                    1             3                             1\n",
       "\n",
       "[2000 rows x 3 columns]"
      ]
     },
     "execution_count": 5,
     "metadata": {},
     "output_type": "execute_result"
    }
   ],
   "source": [
    "practice_data"
   ]
  },
  {
   "cell_type": "markdown",
   "metadata": {},
   "source": [
    "Новые признаки сформированы!"
   ]
  },
  {
   "cell_type": "code",
   "execution_count": null,
   "metadata": {},
   "outputs": [],
   "source": []
  }
 ],
 "metadata": {
  "kernelspec": {
   "display_name": "Python 3",
   "language": "python",
   "name": "python3"
  },
  "language_info": {
   "codemirror_mode": {
    "name": "ipython",
    "version": 3
   },
   "file_extension": ".py",
   "mimetype": "text/x-python",
   "name": "python",
   "nbconvert_exporter": "python",
   "pygments_lexer": "ipython3",
   "version": "3.6.8"
  }
 },
 "nbformat": 4,
 "nbformat_minor": 2
}
